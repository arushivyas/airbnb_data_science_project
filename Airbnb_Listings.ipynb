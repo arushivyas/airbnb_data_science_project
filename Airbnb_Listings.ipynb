{
 "cells": [
  {
   "cell_type": "code",
   "execution_count": 1,
   "metadata": {
    "colab": {
     "base_uri": "https://localhost:8080/",
     "height": 52
    },
    "colab_type": "code",
    "id": "_WbU6Sf9pb2S",
    "outputId": "ce8a3794-edfb-40ea-c6a5-7f38b5049731"
   },
   "outputs": [],
   "source": [
    "import pandas as pd\n",
    "import numpy as np\n",
    "import matplotlib.pyplot as plt\n",
    "import seaborn as sns"
   ]
  },
  {
   "cell_type": "markdown",
   "metadata": {
    "colab": {
     "base_uri": "https://localhost:8080/",
     "height": 126
    },
    "colab_type": "code",
    "id": "vRRhxoKrrYLP",
    "outputId": "27e84b94-0941-4fee-c750-d351ff9b0338"
   },
   "source": [
    "# Make sure the file \"listings.csv\" is present in the same folder as this Jupyter Notebook"
   ]
  },
  {
   "cell_type": "code",
   "execution_count": 2,
   "metadata": {
    "colab": {
     "base_uri": "https://localhost:8080/",
     "height": 52
    },
    "colab_type": "code",
    "id": "_fiv6Okappjr",
    "outputId": "38c29f10-35d1-41c8-bcbe-103d21803537"
   },
   "outputs": [
    {
     "name": "stderr",
     "output_type": "stream",
     "text": [
      "C:\\ArcGIS\\Pro\\bin\\Python\\envs\\arcgispro-py3\\lib\\site-packages\\IPython\\core\\interactiveshell.py:2785: DtypeWarning: Columns (94) have mixed types. Specify dtype option on import or set low_memory=False.\n",
      "  interactivity=interactivity, compiler=compiler, result=result)\n"
     ]
    }
   ],
   "source": [
    "airbnb_listings = pd.read_csv(\"listings.csv\")"
   ]
  },
  {
   "cell_type": "code",
   "execution_count": 3,
   "metadata": {
    "colab": {},
    "colab_type": "code",
    "id": "jfSGy2FTp0sf"
   },
   "outputs": [],
   "source": [
    "cols = airbnb_listings.columns.tolist()"
   ]
  },
  {
   "cell_type": "code",
   "execution_count": 4,
   "metadata": {
    "colab": {
     "base_uri": "https://localhost:8080/",
     "height": 665
    },
    "colab_type": "code",
    "id": "m9NoSGyBRBjf",
    "outputId": "1600be13-3461-4872-f237-197d37f4d98e"
   },
   "outputs": [
    {
     "data": {
      "text/html": [
       "<div>\n",
       "<style scoped>\n",
       "    .dataframe tbody tr th:only-of-type {\n",
       "        vertical-align: middle;\n",
       "    }\n",
       "\n",
       "    .dataframe tbody tr th {\n",
       "        vertical-align: top;\n",
       "    }\n",
       "\n",
       "    .dataframe thead th {\n",
       "        text-align: right;\n",
       "    }\n",
       "</style>\n",
       "<table border=\"1\" class=\"dataframe\">\n",
       "  <thead>\n",
       "    <tr style=\"text-align: right;\">\n",
       "      <th></th>\n",
       "      <th>id</th>\n",
       "      <th>listing_url</th>\n",
       "      <th>scrape_id</th>\n",
       "      <th>last_scraped</th>\n",
       "      <th>name</th>\n",
       "      <th>summary</th>\n",
       "      <th>space</th>\n",
       "      <th>description</th>\n",
       "      <th>experiences_offered</th>\n",
       "      <th>neighborhood_overview</th>\n",
       "      <th>...</th>\n",
       "      <th>instant_bookable</th>\n",
       "      <th>is_business_travel_ready</th>\n",
       "      <th>cancellation_policy</th>\n",
       "      <th>require_guest_profile_picture</th>\n",
       "      <th>require_guest_phone_verification</th>\n",
       "      <th>calculated_host_listings_count</th>\n",
       "      <th>calculated_host_listings_count_entire_homes</th>\n",
       "      <th>calculated_host_listings_count_private_rooms</th>\n",
       "      <th>calculated_host_listings_count_shared_rooms</th>\n",
       "      <th>reviews_per_month</th>\n",
       "    </tr>\n",
       "  </thead>\n",
       "  <tbody>\n",
       "    <tr>\n",
       "      <th>0</th>\n",
       "      <td>2818</td>\n",
       "      <td>https://www.airbnb.com/rooms/2818</td>\n",
       "      <td>20190808195507</td>\n",
       "      <td>2019-08-09</td>\n",
       "      <td>Quiet Garden View Room &amp; Super Fast WiFi</td>\n",
       "      <td>Quiet Garden View Room &amp; Super Fast WiFi</td>\n",
       "      <td>I'm renting a bedroom (room overlooking the ga...</td>\n",
       "      <td>Quiet Garden View Room &amp; Super Fast WiFi I'm r...</td>\n",
       "      <td>none</td>\n",
       "      <td>Indische Buurt (\"Indies Neighborhood\") is a ne...</td>\n",
       "      <td>...</td>\n",
       "      <td>t</td>\n",
       "      <td>f</td>\n",
       "      <td>strict_14_with_grace_period</td>\n",
       "      <td>f</td>\n",
       "      <td>f</td>\n",
       "      <td>1</td>\n",
       "      <td>0</td>\n",
       "      <td>1</td>\n",
       "      <td>0</td>\n",
       "      <td>2.12</td>\n",
       "    </tr>\n",
       "    <tr>\n",
       "      <th>1</th>\n",
       "      <td>20168</td>\n",
       "      <td>https://www.airbnb.com/rooms/20168</td>\n",
       "      <td>20190808195507</td>\n",
       "      <td>2019-08-09</td>\n",
       "      <td>Studio with private bathroom in the centre 1</td>\n",
       "      <td>Cozy studio on your own private floor, 100% in...</td>\n",
       "      <td>For those who like all facets of city life. In...</td>\n",
       "      <td>Cozy studio on your own private floor, 100% in...</td>\n",
       "      <td>none</td>\n",
       "      <td>Located just in between famous central canals....</td>\n",
       "      <td>...</td>\n",
       "      <td>f</td>\n",
       "      <td>f</td>\n",
       "      <td>strict_14_with_grace_period</td>\n",
       "      <td>f</td>\n",
       "      <td>f</td>\n",
       "      <td>2</td>\n",
       "      <td>0</td>\n",
       "      <td>2</td>\n",
       "      <td>0</td>\n",
       "      <td>2.46</td>\n",
       "    </tr>\n",
       "    <tr>\n",
       "      <th>2</th>\n",
       "      <td>25428</td>\n",
       "      <td>https://www.airbnb.com/rooms/25428</td>\n",
       "      <td>20190808195507</td>\n",
       "      <td>2019-08-09</td>\n",
       "      <td>Lovely apt in City Centre (w.lift) near Jordaan</td>\n",
       "      <td>NaN</td>\n",
       "      <td>This nicely furnished, newly renovated apt  is...</td>\n",
       "      <td>This nicely furnished, newly renovated apt  is...</td>\n",
       "      <td>none</td>\n",
       "      <td>NaN</td>\n",
       "      <td>...</td>\n",
       "      <td>f</td>\n",
       "      <td>f</td>\n",
       "      <td>strict_14_with_grace_period</td>\n",
       "      <td>f</td>\n",
       "      <td>f</td>\n",
       "      <td>2</td>\n",
       "      <td>2</td>\n",
       "      <td>0</td>\n",
       "      <td>0</td>\n",
       "      <td>0.16</td>\n",
       "    </tr>\n",
       "    <tr>\n",
       "      <th>3</th>\n",
       "      <td>27886</td>\n",
       "      <td>https://www.airbnb.com/rooms/27886</td>\n",
       "      <td>20190808195507</td>\n",
       "      <td>2019-08-09</td>\n",
       "      <td>Romantic, stylish B&amp;B houseboat in canal district</td>\n",
       "      <td>Stylish and romantic houseboat on fantastic hi...</td>\n",
       "      <td>For a romantic couple: A beautifully restored ...</td>\n",
       "      <td>Stylish and romantic houseboat on fantastic hi...</td>\n",
       "      <td>none</td>\n",
       "      <td>Central, quiet, safe, clean and beautiful.</td>\n",
       "      <td>...</td>\n",
       "      <td>t</td>\n",
       "      <td>f</td>\n",
       "      <td>strict_14_with_grace_period</td>\n",
       "      <td>f</td>\n",
       "      <td>f</td>\n",
       "      <td>1</td>\n",
       "      <td>0</td>\n",
       "      <td>1</td>\n",
       "      <td>0</td>\n",
       "      <td>2.11</td>\n",
       "    </tr>\n",
       "    <tr>\n",
       "      <th>4</th>\n",
       "      <td>28871</td>\n",
       "      <td>https://www.airbnb.com/rooms/28871</td>\n",
       "      <td>20190808195507</td>\n",
       "      <td>2019-08-09</td>\n",
       "      <td>Comfortable double room</td>\n",
       "      <td>NaN</td>\n",
       "      <td>In a monumental house right in the center of A...</td>\n",
       "      <td>In a monumental house right in the center of A...</td>\n",
       "      <td>none</td>\n",
       "      <td>NaN</td>\n",
       "      <td>...</td>\n",
       "      <td>f</td>\n",
       "      <td>f</td>\n",
       "      <td>moderate</td>\n",
       "      <td>f</td>\n",
       "      <td>f</td>\n",
       "      <td>3</td>\n",
       "      <td>0</td>\n",
       "      <td>3</td>\n",
       "      <td>0</td>\n",
       "      <td>2.59</td>\n",
       "    </tr>\n",
       "  </tbody>\n",
       "</table>\n",
       "<p>5 rows × 106 columns</p>\n",
       "</div>"
      ],
      "text/plain": [
       "      id                         listing_url       scrape_id last_scraped  \\\n",
       "0   2818   https://www.airbnb.com/rooms/2818  20190808195507   2019-08-09   \n",
       "1  20168  https://www.airbnb.com/rooms/20168  20190808195507   2019-08-09   \n",
       "2  25428  https://www.airbnb.com/rooms/25428  20190808195507   2019-08-09   \n",
       "3  27886  https://www.airbnb.com/rooms/27886  20190808195507   2019-08-09   \n",
       "4  28871  https://www.airbnb.com/rooms/28871  20190808195507   2019-08-09   \n",
       "\n",
       "                                                name  \\\n",
       "0           Quiet Garden View Room & Super Fast WiFi   \n",
       "1       Studio with private bathroom in the centre 1   \n",
       "2    Lovely apt in City Centre (w.lift) near Jordaan   \n",
       "3  Romantic, stylish B&B houseboat in canal district   \n",
       "4                            Comfortable double room   \n",
       "\n",
       "                                             summary  \\\n",
       "0           Quiet Garden View Room & Super Fast WiFi   \n",
       "1  Cozy studio on your own private floor, 100% in...   \n",
       "2                                                NaN   \n",
       "3  Stylish and romantic houseboat on fantastic hi...   \n",
       "4                                                NaN   \n",
       "\n",
       "                                               space  \\\n",
       "0  I'm renting a bedroom (room overlooking the ga...   \n",
       "1  For those who like all facets of city life. In...   \n",
       "2  This nicely furnished, newly renovated apt  is...   \n",
       "3  For a romantic couple: A beautifully restored ...   \n",
       "4  In a monumental house right in the center of A...   \n",
       "\n",
       "                                         description experiences_offered  \\\n",
       "0  Quiet Garden View Room & Super Fast WiFi I'm r...                none   \n",
       "1  Cozy studio on your own private floor, 100% in...                none   \n",
       "2  This nicely furnished, newly renovated apt  is...                none   \n",
       "3  Stylish and romantic houseboat on fantastic hi...                none   \n",
       "4  In a monumental house right in the center of A...                none   \n",
       "\n",
       "                               neighborhood_overview        ...          \\\n",
       "0  Indische Buurt (\"Indies Neighborhood\") is a ne...        ...           \n",
       "1  Located just in between famous central canals....        ...           \n",
       "2                                                NaN        ...           \n",
       "3         Central, quiet, safe, clean and beautiful.        ...           \n",
       "4                                                NaN        ...           \n",
       "\n",
       "  instant_bookable is_business_travel_ready          cancellation_policy  \\\n",
       "0                t                        f  strict_14_with_grace_period   \n",
       "1                f                        f  strict_14_with_grace_period   \n",
       "2                f                        f  strict_14_with_grace_period   \n",
       "3                t                        f  strict_14_with_grace_period   \n",
       "4                f                        f                     moderate   \n",
       "\n",
       "  require_guest_profile_picture require_guest_phone_verification  \\\n",
       "0                             f                                f   \n",
       "1                             f                                f   \n",
       "2                             f                                f   \n",
       "3                             f                                f   \n",
       "4                             f                                f   \n",
       "\n",
       "   calculated_host_listings_count  \\\n",
       "0                               1   \n",
       "1                               2   \n",
       "2                               2   \n",
       "3                               1   \n",
       "4                               3   \n",
       "\n",
       "   calculated_host_listings_count_entire_homes  \\\n",
       "0                                            0   \n",
       "1                                            0   \n",
       "2                                            2   \n",
       "3                                            0   \n",
       "4                                            0   \n",
       "\n",
       "  calculated_host_listings_count_private_rooms  \\\n",
       "0                                            1   \n",
       "1                                            2   \n",
       "2                                            0   \n",
       "3                                            1   \n",
       "4                                            3   \n",
       "\n",
       "   calculated_host_listings_count_shared_rooms  reviews_per_month  \n",
       "0                                            0               2.12  \n",
       "1                                            0               2.46  \n",
       "2                                            0               0.16  \n",
       "3                                            0               2.11  \n",
       "4                                            0               2.59  \n",
       "\n",
       "[5 rows x 106 columns]"
      ]
     },
     "execution_count": 4,
     "metadata": {},
     "output_type": "execute_result"
    }
   ],
   "source": [
    "airbnb_listings.head()"
   ]
  },
  {
   "cell_type": "code",
   "execution_count": 5,
   "metadata": {
    "colab": {
     "base_uri": "https://localhost:8080/",
     "height": 35
    },
    "colab_type": "code",
    "id": "HnzPTJwbR2Ah",
    "outputId": "c909710e-b2c5-4576-dcaf-f2d052f7bcc0"
   },
   "outputs": [
    {
     "data": {
      "text/plain": [
       "(20677, 106)"
      ]
     },
     "execution_count": 5,
     "metadata": {},
     "output_type": "execute_result"
    }
   ],
   "source": [
    "# Randomizing the data\n",
    "airbnb_listings.sample(frac=1)\n",
    "airbnb_listings=airbnb_listings.copy()\n",
    "airbnb_listings.shape"
   ]
  },
  {
   "cell_type": "markdown",
   "metadata": {
    "colab_type": "text",
    "id": "C2Y-AYDDVb3F"
   },
   "source": [
    "Below, I am removing some dataset missing values from some columns and replacing them with \"None\" or 0 accordingly\n"
   ]
  },
  {
   "cell_type": "code",
   "execution_count": 6,
   "metadata": {
    "colab": {},
    "colab_type": "code",
    "id": "ixb4oYyPUE6u"
   },
   "outputs": [],
   "source": [
    "#fill missing values for last review and reviews per month with 0\n",
    "airbnb_listings[[\"last_review\", \"reviews_per_month\"]] = airbnb_listings[[\"last_review\", \"reviews_per_month\"]].fillna(0)"
   ]
  },
  {
   "cell_type": "code",
   "execution_count": 7,
   "metadata": {
    "colab": {},
    "colab_type": "code",
    "id": "w1WoUZhezr0N"
   },
   "outputs": [],
   "source": [
    "#if there is no host name or listing name fill in None\n",
    "airbnb_listings[[\"name\", \"host_name\"]] = airbnb_listings[[\"name\", \"host_name\"]].fillna(\"None\")\n"
   ]
  },
  {
   "cell_type": "code",
   "execution_count": 8,
   "metadata": {
    "colab": {},
    "colab_type": "code",
    "id": "KDzdmh74z7-V"
   },
   "outputs": [],
   "source": [
    "#Drop rows were price of the listing is 0. We are not intersted in \"free\" \n",
    "#listings as they are most likely an error.\n",
    "free = len(airbnb_listings[airbnb_listings.price == 0])\n",
    "airbnb_listings = airbnb_listings[airbnb_listings.price != 0].copy()"
   ]
  },
  {
   "cell_type": "code",
   "execution_count": 9,
   "metadata": {
    "colab": {
     "base_uri": "https://localhost:8080/",
     "height": 106
    },
    "colab_type": "code",
    "id": "6r_Eo-Ba0GYN",
    "outputId": "056a486e-9cd1-4d19-92fa-7d94451c7422"
   },
   "outputs": [
    {
     "name": "stdout",
     "output_type": "stream",
     "text": [
      "The initial dataset contained 0 listings with price of 0 USD, that had been removed\n",
      "There are 20677 listings\n",
      "There are 17744 unique and indentifiable hosts.\n",
      "There are 12 unindentifiable hosts.\n",
      "Dataframe shape: (20677, 106)\n"
     ]
    }
   ],
   "source": [
    "#Print initial insights:\n",
    "print(\"The initial dataset contained \" + str(free)+ \" listings with price of 0 USD, that had been removed\")\n",
    "print(\"There are \" + str(len(airbnb_listings[\"id\"].unique()))+\" listings\")\n",
    "print(\"There are \"+str(len(airbnb_listings.host_id.unique()))\n",
    "      +\" unique and indentifiable \"+ \"hosts.\")\n",
    "print(\"There are \"+str(len(airbnb_listings[airbnb_listings[\"host_name\"]==\"None\"]))\n",
    "      +\" unindentifiable \"+ \"hosts.\")\n",
    "print(\"Dataframe shape: \"+str(airbnb_listings.shape))"
   ]
  },
  {
   "cell_type": "markdown",
   "metadata": {
    "colab_type": "text",
    "id": "guBFP6Y73Oq3"
   },
   "source": [
    "- Having observed all the columns, and focusing on the price and yearly\n",
    "availability of the listings, I have selected a limited number of columns that should be important for our analysis. \n",
    "\n",
    "- These 16 columns are chosen so as to keep the analysis limited and short for complexity purposes.\n"
   ]
  },
  {
   "cell_type": "markdown",
   "metadata": {
    "colab_type": "text",
    "id": "UOmp1lmsUA_R"
   },
   "source": [
    "I have chosen these particular columns by thinking about 4 major categories of columns namely \n",
    "\n",
    "1.   Host descriptors (host_id, host_name, calculated_host_listings_count)\n",
    "2.   Listing descriptors (id, name, room_type, minimum_nights, availability_365, price)\n",
    "3.   Review Descriptors (number_of_reviews, last_review, _reviews_per_month)\n",
    "4.   Location Descriptors (neighbourhood_cleansed, neighbourhood, latitude, longitude)\n"
   ]
  },
  {
   "cell_type": "code",
   "execution_count": 10,
   "metadata": {
    "colab": {
     "base_uri": "https://localhost:8080/",
     "height": 230
    },
    "colab_type": "code",
    "id": "3EW7ynOsxa3y",
    "outputId": "1831d52f-5fb5-4082-d98d-d6dbe5eca9c6"
   },
   "outputs": [
    {
     "data": {
      "text/plain": [
       "0        Oostelijk Havengebied - Indische Buurt\n",
       "1                                  Centrum-Oost\n",
       "2                                  Centrum-West\n",
       "3                                  Centrum-West\n",
       "4                                  Centrum-West\n",
       "5                                  Centrum-West\n",
       "6                                          Zuid\n",
       "7                                  Centrum-West\n",
       "8                                  Centrum-West\n",
       "9                                  Centrum-West\n",
       "10                                         Zuid\n",
       "11                                 Centrum-West\n",
       "12                                 Centrum-Oost\n",
       "13                      De Pijp - Rivierenbuurt\n",
       "14                       De Baarsjes - Oud-West\n",
       "15                                 Centrum-West\n",
       "16                                 Centrum-West\n",
       "17                                Bos en Lommer\n",
       "18                                   Westerpark\n",
       "19                                 Centrum-West\n",
       "20                                Bos en Lommer\n",
       "21       Oostelijk Havengebied - Indische Buurt\n",
       "22                      De Pijp - Rivierenbuurt\n",
       "23                                   Westerpark\n",
       "24                      De Pijp - Rivierenbuurt\n",
       "25                                 Centrum-Oost\n",
       "26                      De Pijp - Rivierenbuurt\n",
       "27                                Bos en Lommer\n",
       "28                                 Centrum-Oost\n",
       "29                       De Baarsjes - Oud-West\n",
       "                          ...                  \n",
       "20647                              Centrum-West\n",
       "20648    Oostelijk Havengebied - Indische Buurt\n",
       "20649                              Centrum-Oost\n",
       "20650                              Bijlmer-Oost\n",
       "20651                                      Zuid\n",
       "20652                              Centrum-West\n",
       "20653                              Centrum-Oost\n",
       "20654                              Centrum-West\n",
       "20655                                  Oud-Oost\n",
       "20656                   Geuzenveld - Slotermeer\n",
       "20657                                 Oud-Noord\n",
       "20658                                  Oud-Oost\n",
       "20659                                      Zuid\n",
       "20660                              Centrum-West\n",
       "20661                           Bijlmer-Centrum\n",
       "20662                    De Baarsjes - Oud-West\n",
       "20663                           Bijlmer-Centrum\n",
       "20664                    De Aker - Nieuw Sloten\n",
       "20665                              Centrum-West\n",
       "20666                   De Pijp - Rivierenbuurt\n",
       "20667                    Buitenveldert - Zuidas\n",
       "20668                   De Pijp - Rivierenbuurt\n",
       "20669                             Bos en Lommer\n",
       "20670                              Centrum-West\n",
       "20671                    De Baarsjes - Oud-West\n",
       "20672                    De Baarsjes - Oud-West\n",
       "20673                                 Oud-Noord\n",
       "20674                    Buitenveldert - Zuidas\n",
       "20675                              Centrum-Oost\n",
       "20676                   De Pijp - Rivierenbuurt\n",
       "Name: neighbourhood_cleansed, Length: 20677, dtype: object"
      ]
     },
     "execution_count": 10,
     "metadata": {},
     "output_type": "execute_result"
    }
   ],
   "source": [
    "airbnb_listings.neighbourhood_cleansed"
   ]
  },
  {
   "cell_type": "code",
   "execution_count": 11,
   "metadata": {
    "colab": {},
    "colab_type": "code",
    "id": "RJoC4WAs0YLs"
   },
   "outputs": [],
   "source": [
    "airbnb_listings = airbnb_listings[[\"id\", \"name\", \"host_id\", \"host_name\", \"calculated_host_listings_count\", \"room_type\", \"minimum_nights\", \"availability_365\", \"price\", \"number_of_reviews\", \"last_review\", \"reviews_per_month\", \"neighbourhood_cleansed\", \"neighbourhood\", \"latitude\", \"longitude\"]]"
   ]
  },
  {
   "cell_type": "markdown",
   "metadata": {
    "colab_type": "text",
    "id": "zo7wUCUSdB6L"
   },
   "source": [
    "- Each listing contains \"Calculated_host_listings_count\", which is a count of total listing by a specific host in the provided data. The logic below derives value of the calculated host listings count for a specific listing (20168 in this example) and checks if it is equal to the total number of listings by that host (whose host ID is 59484) in the dataset\n",
    "\n",
    "- The comparison yields true, meaning that \"calculated_host_listings_count\" for the specific host indicated gives an accurate number of listings posted by the same host. Properties could then easily related by the host ID."
   ]
  },
  {
   "cell_type": "code",
   "execution_count": 12,
   "metadata": {
    "colab": {
     "base_uri": "https://localhost:8080/",
     "height": 35
    },
    "colab_type": "code",
    "id": "GWlKqp5M2Pfm",
    "outputId": "378a1104-d6c1-402e-8246-70d287060032"
   },
   "outputs": [
    {
     "data": {
      "text/plain": [
       "[True]"
      ]
     },
     "execution_count": 12,
     "metadata": {},
     "output_type": "execute_result"
    }
   ],
   "source": [
    "(len(airbnb_listings[airbnb_listings[\"host_id\"]==59484]) == airbnb_listings[airbnb_listings[\"id\"]==20168][\"calculated_host_listings_count\"]).tolist()"
   ]
  },
  {
   "cell_type": "code",
   "execution_count": 13,
   "metadata": {
    "colab": {
     "base_uri": "https://localhost:8080/",
     "height": 399
    },
    "colab_type": "code",
    "id": "3PKUOKhrTbmR",
    "outputId": "1859dfe5-c5ad-42b4-f7d3-50c9d88402de"
   },
   "outputs": [
    {
     "data": {
      "text/html": [
       "<div>\n",
       "<style scoped>\n",
       "    .dataframe tbody tr th:only-of-type {\n",
       "        vertical-align: middle;\n",
       "    }\n",
       "\n",
       "    .dataframe tbody tr th {\n",
       "        vertical-align: top;\n",
       "    }\n",
       "\n",
       "    .dataframe thead th {\n",
       "        text-align: right;\n",
       "    }\n",
       "</style>\n",
       "<table border=\"1\" class=\"dataframe\">\n",
       "  <thead>\n",
       "    <tr style=\"text-align: right;\">\n",
       "      <th></th>\n",
       "      <th>host_id</th>\n",
       "      <th>calculated_host_listings_count</th>\n",
       "    </tr>\n",
       "  </thead>\n",
       "  <tbody>\n",
       "    <tr>\n",
       "      <th>2</th>\n",
       "      <td>56142</td>\n",
       "      <td>2</td>\n",
       "    </tr>\n",
       "    <tr>\n",
       "      <th>634</th>\n",
       "      <td>56142</td>\n",
       "      <td>2</td>\n",
       "    </tr>\n",
       "    <tr>\n",
       "      <th>1</th>\n",
       "      <td>59484</td>\n",
       "      <td>2</td>\n",
       "    </tr>\n",
       "    <tr>\n",
       "      <th>2230</th>\n",
       "      <td>59484</td>\n",
       "      <td>2</td>\n",
       "    </tr>\n",
       "    <tr>\n",
       "      <th>14378</th>\n",
       "      <td>65041</td>\n",
       "      <td>2</td>\n",
       "    </tr>\n",
       "    <tr>\n",
       "      <th>10</th>\n",
       "      <td>65041</td>\n",
       "      <td>2</td>\n",
       "    </tr>\n",
       "    <tr>\n",
       "      <th>12539</th>\n",
       "      <td>77484</td>\n",
       "      <td>5</td>\n",
       "    </tr>\n",
       "    <tr>\n",
       "      <th>11255</th>\n",
       "      <td>77484</td>\n",
       "      <td>5</td>\n",
       "    </tr>\n",
       "    <tr>\n",
       "      <th>517</th>\n",
       "      <td>77484</td>\n",
       "      <td>5</td>\n",
       "    </tr>\n",
       "    <tr>\n",
       "      <th>542</th>\n",
       "      <td>77484</td>\n",
       "      <td>5</td>\n",
       "    </tr>\n",
       "    <tr>\n",
       "      <th>106</th>\n",
       "      <td>77484</td>\n",
       "      <td>5</td>\n",
       "    </tr>\n",
       "    <tr>\n",
       "      <th>5</th>\n",
       "      <td>124245</td>\n",
       "      <td>3</td>\n",
       "    </tr>\n",
       "    <tr>\n",
       "      <th>4</th>\n",
       "      <td>124245</td>\n",
       "      <td>3</td>\n",
       "    </tr>\n",
       "    <tr>\n",
       "      <th>51</th>\n",
       "      <td>124245</td>\n",
       "      <td>3</td>\n",
       "    </tr>\n",
       "    <tr>\n",
       "      <th>2316</th>\n",
       "      <td>125667</td>\n",
       "      <td>2</td>\n",
       "    </tr>\n",
       "    <tr>\n",
       "      <th>649</th>\n",
       "      <td>125667</td>\n",
       "      <td>2</td>\n",
       "    </tr>\n",
       "    <tr>\n",
       "      <th>3061</th>\n",
       "      <td>127938</td>\n",
       "      <td>2</td>\n",
       "    </tr>\n",
       "    <tr>\n",
       "      <th>10840</th>\n",
       "      <td>127938</td>\n",
       "      <td>2</td>\n",
       "    </tr>\n",
       "    <tr>\n",
       "      <th>8</th>\n",
       "      <td>187580</td>\n",
       "      <td>2</td>\n",
       "    </tr>\n",
       "    <tr>\n",
       "      <th>114</th>\n",
       "      <td>187580</td>\n",
       "      <td>2</td>\n",
       "    </tr>\n",
       "    <tr>\n",
       "      <th>3399</th>\n",
       "      <td>187728</td>\n",
       "      <td>4</td>\n",
       "    </tr>\n",
       "    <tr>\n",
       "      <th>13309</th>\n",
       "      <td>187728</td>\n",
       "      <td>4</td>\n",
       "    </tr>\n",
       "    <tr>\n",
       "      <th>1475</th>\n",
       "      <td>187728</td>\n",
       "      <td>4</td>\n",
       "    </tr>\n",
       "    <tr>\n",
       "      <th>11</th>\n",
       "      <td>187728</td>\n",
       "      <td>4</td>\n",
       "    </tr>\n",
       "    <tr>\n",
       "      <th>56</th>\n",
       "      <td>195859</td>\n",
       "      <td>2</td>\n",
       "    </tr>\n",
       "    <tr>\n",
       "      <th>465</th>\n",
       "      <td>195859</td>\n",
       "      <td>2</td>\n",
       "    </tr>\n",
       "    <tr>\n",
       "      <th>5496</th>\n",
       "      <td>210082</td>\n",
       "      <td>2</td>\n",
       "    </tr>\n",
       "    <tr>\n",
       "      <th>13117</th>\n",
       "      <td>210082</td>\n",
       "      <td>2</td>\n",
       "    </tr>\n",
       "    <tr>\n",
       "      <th>2862</th>\n",
       "      <td>219080</td>\n",
       "      <td>2</td>\n",
       "    </tr>\n",
       "    <tr>\n",
       "      <th>15</th>\n",
       "      <td>219080</td>\n",
       "      <td>2</td>\n",
       "    </tr>\n",
       "    <tr>\n",
       "      <th>...</th>\n",
       "      <td>...</td>\n",
       "      <td>...</td>\n",
       "    </tr>\n",
       "    <tr>\n",
       "      <th>19950</th>\n",
       "      <td>273266448</td>\n",
       "      <td>4</td>\n",
       "    </tr>\n",
       "    <tr>\n",
       "      <th>20105</th>\n",
       "      <td>273266448</td>\n",
       "      <td>4</td>\n",
       "    </tr>\n",
       "    <tr>\n",
       "      <th>20178</th>\n",
       "      <td>273306112</td>\n",
       "      <td>3</td>\n",
       "    </tr>\n",
       "    <tr>\n",
       "      <th>20189</th>\n",
       "      <td>273306112</td>\n",
       "      <td>3</td>\n",
       "    </tr>\n",
       "    <tr>\n",
       "      <th>19959</th>\n",
       "      <td>273306112</td>\n",
       "      <td>3</td>\n",
       "    </tr>\n",
       "    <tr>\n",
       "      <th>20143</th>\n",
       "      <td>273497923</td>\n",
       "      <td>2</td>\n",
       "    </tr>\n",
       "    <tr>\n",
       "      <th>19975</th>\n",
       "      <td>273497923</td>\n",
       "      <td>2</td>\n",
       "    </tr>\n",
       "    <tr>\n",
       "      <th>20026</th>\n",
       "      <td>274046106</td>\n",
       "      <td>2</td>\n",
       "    </tr>\n",
       "    <tr>\n",
       "      <th>20213</th>\n",
       "      <td>274046106</td>\n",
       "      <td>2</td>\n",
       "    </tr>\n",
       "    <tr>\n",
       "      <th>20131</th>\n",
       "      <td>275108252</td>\n",
       "      <td>2</td>\n",
       "    </tr>\n",
       "    <tr>\n",
       "      <th>20113</th>\n",
       "      <td>275108252</td>\n",
       "      <td>2</td>\n",
       "    </tr>\n",
       "    <tr>\n",
       "      <th>20121</th>\n",
       "      <td>275232927</td>\n",
       "      <td>2</td>\n",
       "    </tr>\n",
       "    <tr>\n",
       "      <th>20659</th>\n",
       "      <td>275232927</td>\n",
       "      <td>2</td>\n",
       "    </tr>\n",
       "    <tr>\n",
       "      <th>20184</th>\n",
       "      <td>275981922</td>\n",
       "      <td>2</td>\n",
       "    </tr>\n",
       "    <tr>\n",
       "      <th>20214</th>\n",
       "      <td>275981922</td>\n",
       "      <td>2</td>\n",
       "    </tr>\n",
       "    <tr>\n",
       "      <th>20660</th>\n",
       "      <td>277143162</td>\n",
       "      <td>3</td>\n",
       "    </tr>\n",
       "    <tr>\n",
       "      <th>20275</th>\n",
       "      <td>277143162</td>\n",
       "      <td>3</td>\n",
       "    </tr>\n",
       "    <tr>\n",
       "      <th>20647</th>\n",
       "      <td>277143162</td>\n",
       "      <td>3</td>\n",
       "    </tr>\n",
       "    <tr>\n",
       "      <th>20318</th>\n",
       "      <td>277852567</td>\n",
       "      <td>2</td>\n",
       "    </tr>\n",
       "    <tr>\n",
       "      <th>20512</th>\n",
       "      <td>277852567</td>\n",
       "      <td>2</td>\n",
       "    </tr>\n",
       "    <tr>\n",
       "      <th>20400</th>\n",
       "      <td>279181956</td>\n",
       "      <td>2</td>\n",
       "    </tr>\n",
       "    <tr>\n",
       "      <th>20399</th>\n",
       "      <td>279181956</td>\n",
       "      <td>2</td>\n",
       "    </tr>\n",
       "    <tr>\n",
       "      <th>20514</th>\n",
       "      <td>279690513</td>\n",
       "      <td>2</td>\n",
       "    </tr>\n",
       "    <tr>\n",
       "      <th>20432</th>\n",
       "      <td>279690513</td>\n",
       "      <td>2</td>\n",
       "    </tr>\n",
       "    <tr>\n",
       "      <th>20464</th>\n",
       "      <td>279760502</td>\n",
       "      <td>2</td>\n",
       "    </tr>\n",
       "    <tr>\n",
       "      <th>20436</th>\n",
       "      <td>279760502</td>\n",
       "      <td>2</td>\n",
       "    </tr>\n",
       "    <tr>\n",
       "      <th>20530</th>\n",
       "      <td>281378925</td>\n",
       "      <td>2</td>\n",
       "    </tr>\n",
       "    <tr>\n",
       "      <th>20532</th>\n",
       "      <td>281378925</td>\n",
       "      <td>2</td>\n",
       "    </tr>\n",
       "    <tr>\n",
       "      <th>20553</th>\n",
       "      <td>281796874</td>\n",
       "      <td>2</td>\n",
       "    </tr>\n",
       "    <tr>\n",
       "      <th>20560</th>\n",
       "      <td>281796874</td>\n",
       "      <td>2</td>\n",
       "    </tr>\n",
       "  </tbody>\n",
       "</table>\n",
       "<p>4417 rows × 2 columns</p>\n",
       "</div>"
      ],
      "text/plain": [
       "         host_id  calculated_host_listings_count\n",
       "2          56142                               2\n",
       "634        56142                               2\n",
       "1          59484                               2\n",
       "2230       59484                               2\n",
       "14378      65041                               2\n",
       "10         65041                               2\n",
       "12539      77484                               5\n",
       "11255      77484                               5\n",
       "517        77484                               5\n",
       "542        77484                               5\n",
       "106        77484                               5\n",
       "5         124245                               3\n",
       "4         124245                               3\n",
       "51        124245                               3\n",
       "2316      125667                               2\n",
       "649       125667                               2\n",
       "3061      127938                               2\n",
       "10840     127938                               2\n",
       "8         187580                               2\n",
       "114       187580                               2\n",
       "3399      187728                               4\n",
       "13309     187728                               4\n",
       "1475      187728                               4\n",
       "11        187728                               4\n",
       "56        195859                               2\n",
       "465       195859                               2\n",
       "5496      210082                               2\n",
       "13117     210082                               2\n",
       "2862      219080                               2\n",
       "15        219080                               2\n",
       "...          ...                             ...\n",
       "19950  273266448                               4\n",
       "20105  273266448                               4\n",
       "20178  273306112                               3\n",
       "20189  273306112                               3\n",
       "19959  273306112                               3\n",
       "20143  273497923                               2\n",
       "19975  273497923                               2\n",
       "20026  274046106                               2\n",
       "20213  274046106                               2\n",
       "20131  275108252                               2\n",
       "20113  275108252                               2\n",
       "20121  275232927                               2\n",
       "20659  275232927                               2\n",
       "20184  275981922                               2\n",
       "20214  275981922                               2\n",
       "20660  277143162                               3\n",
       "20275  277143162                               3\n",
       "20647  277143162                               3\n",
       "20318  277852567                               2\n",
       "20512  277852567                               2\n",
       "20400  279181956                               2\n",
       "20399  279181956                               2\n",
       "20514  279690513                               2\n",
       "20432  279690513                               2\n",
       "20464  279760502                               2\n",
       "20436  279760502                               2\n",
       "20530  281378925                               2\n",
       "20532  281378925                               2\n",
       "20553  281796874                               2\n",
       "20560  281796874                               2\n",
       "\n",
       "[4417 rows x 2 columns]"
      ]
     },
     "execution_count": 13,
     "metadata": {},
     "output_type": "execute_result"
    }
   ],
   "source": [
    "airbnb_listings[(airbnb_listings[\"calculated_host_listings_count\"]>1)][[\"host_id\",\"calculated_host_listings_count\"]].sort_values(by=['host_id'])"
   ]
  },
  {
   "cell_type": "markdown",
   "metadata": {
    "colab_type": "text",
    "id": "hmnoao6nyL_p"
   },
   "source": [
    "- Next, lets shift focus to the minimum nights.\n",
    "- Here I am plotting a histogram of minimum nights of rental required in the listing:\n"
   ]
  },
  {
   "cell_type": "markdown",
   "metadata": {
    "colab_type": "text",
    "id": "h3iWJEmK-prY"
   },
   "source": [
    "I will also limit my analysis to lisitngs that are confined to 31 minimum nights at most, in order to exclude long term rentals. Therefore, my analysis will target short term renters, most likley vistors to the city, majority of whom may be tourists."
   ]
  },
  {
   "cell_type": "code",
   "execution_count": 14,
   "metadata": {
    "colab": {},
    "colab_type": "code",
    "id": "QeurY4rx9oLm"
   },
   "outputs": [],
   "source": [
    "airbnb_listings_old = airbnb_listings.copy()\n",
    "airbnb_listings = airbnb_listings[airbnb_listings[\"minimum_nights\"] <=31].copy()\n",
    "removed_listings = len(airbnb_listings_old)-len(airbnb_listings)"
   ]
  },
  {
   "cell_type": "code",
   "execution_count": 15,
   "metadata": {
    "colab": {
     "base_uri": "https://localhost:8080/",
     "height": 227
    },
    "colab_type": "code",
    "id": "ayTV1oyC99g7",
    "outputId": "b632faf9-263d-4f7c-e3e7-56c5fee78ede"
   },
   "outputs": [
    {
     "data": {
      "image/png": "[encoded data removed]",
      "text/plain": [
       "<Figure size 1008x216 with 2 Axes>"
      ]
     },
     "metadata": {},
     "output_type": "display_data"
    }
   ],
   "source": [
    "fig = plt.figure(figsize=(14,3))\n",
    "ax1 = fig.add_subplot(1, 2, 1)\n",
    "ax2 = fig.add_subplot(1, 2, 2)\n",
    "\n",
    "\n",
    "ax1.hist(airbnb_listings_old.minimum_nights, bins=100, log=True)\n",
    "ax1.set_ylabel(\"Frequency\")\n",
    "ax1.set_title(\"No limit on minimum nights\")\n",
    "\n",
    "ax2.hist(airbnb_listings.minimum_nights, bins=31, log=True)\n",
    "ax2.set_ylabel(\"Frequency\")\n",
    "ax2.set_title(\"Maximum 31 minimum nights\")\n",
    "\n",
    "plt.show()"
   ]
  },
  {
   "cell_type": "code",
   "execution_count": 16,
   "metadata": {
    "colab": {
     "base_uri": "https://localhost:8080/",
     "height": 35
    },
    "colab_type": "code",
    "id": "dAe_4c18-cHN",
    "outputId": "f350c62b-4533-41d4-884d-5917625e0780"
   },
   "outputs": [
    {
     "name": "stdout",
     "output_type": "stream",
     "text": [
      "As a result of imposing minimum nights limit, 79 listings were removed.\n"
     ]
    }
   ],
   "source": [
    "print(\"As a result of imposing minimum nights limit, \" + str(removed_listings)+\" listings were removed.\")"
   ]
  },
  {
   "cell_type": "code",
   "execution_count": 17,
   "metadata": {
    "colab": {
     "base_uri": "https://localhost:8080/",
     "height": 319
    },
    "colab_type": "code",
    "id": "AEoc6NfZ-2qA",
    "outputId": "31d7c5b6-a5ba-4f89-fdf2-9db0a9595593"
   },
   "outputs": [
    {
     "data": {
      "text/plain": [
       "id                                  0\n",
       "name                                0\n",
       "host_id                             0\n",
       "host_name                           0\n",
       "calculated_host_listings_count      0\n",
       "room_type                           0\n",
       "minimum_nights                      0\n",
       "availability_365                    0\n",
       "price                               0\n",
       "number_of_reviews                   0\n",
       "last_review                         0\n",
       "reviews_per_month                   0\n",
       "neighbourhood_cleansed              0\n",
       "neighbourhood                     826\n",
       "latitude                            0\n",
       "longitude                           0\n",
       "dtype: int64"
      ]
     },
     "execution_count": 17,
     "metadata": {},
     "output_type": "execute_result"
    }
   ],
   "source": [
    "airbnb_listings.isnull().sum()"
   ]
  },
  {
   "cell_type": "markdown",
   "metadata": {
    "colab_type": "text",
    "id": "Cgt54shR_axV"
   },
   "source": [
    "- The dataframe currently has only 826 rows out of 20598 rows with a null value in the \"neighbourhood\" column. \n",
    "\n",
    "- So let us remove those rows as the difference would not be very significant if we remove about 5% of the data."
   ]
  },
  {
   "cell_type": "code",
   "execution_count": 18,
   "metadata": {
    "colab": {},
    "colab_type": "code",
    "id": "pfA1J07kegoD"
   },
   "outputs": [],
   "source": [
    "airbnb_listings = airbnb_listings[airbnb_listings['neighbourhood'].notnull()]"
   ]
  },
  {
   "cell_type": "markdown",
   "metadata": {
    "colab_type": "text",
    "id": "sXCNEa9HdyJR"
   },
   "source": [
    "Let us check the types of all the columns in the dataframe"
   ]
  },
  {
   "cell_type": "code",
   "execution_count": 19,
   "metadata": {
    "colab": {
     "base_uri": "https://localhost:8080/",
     "height": 319
    },
    "colab_type": "code",
    "id": "ULETNnmleteT",
    "outputId": "cdf0642b-3091-4aff-80a1-8f3fe4e6b7fd"
   },
   "outputs": [
    {
     "data": {
      "text/plain": [
       "id                                  int64\n",
       "name                               object\n",
       "host_id                             int64\n",
       "host_name                          object\n",
       "calculated_host_listings_count      int64\n",
       "room_type                          object\n",
       "minimum_nights                      int64\n",
       "availability_365                    int64\n",
       "price                              object\n",
       "number_of_reviews                   int64\n",
       "last_review                        object\n",
       "reviews_per_month                 float64\n",
       "neighbourhood_cleansed             object\n",
       "neighbourhood                      object\n",
       "latitude                          float64\n",
       "longitude                         float64\n",
       "dtype: object"
      ]
     },
     "execution_count": 19,
     "metadata": {},
     "output_type": "execute_result"
    }
   ],
   "source": [
    "airbnb_listings.dtypes"
   ]
  },
  {
   "cell_type": "markdown",
   "metadata": {
    "colab_type": "text",
    "id": "Q1VFKAl0e7QY"
   },
   "source": [
    "The type of \"price\" column is object of type \"string\". \n",
    "However, we want some summary statistics about it, therefore we need to convert it to float data type"
   ]
  },
  {
   "cell_type": "code",
   "execution_count": 20,
   "metadata": {
    "colab": {
     "base_uri": "https://localhost:8080/",
     "height": 52
    },
    "colab_type": "code",
    "id": "B9BIm7cNdwbp",
    "outputId": "f8ab0d53-f1eb-4a33-8b50-1f88849c1d07"
   },
   "outputs": [
    {
     "data": {
      "text/plain": [
       "<class 'str'>    19772\n",
       "Name: price, dtype: int64"
      ]
     },
     "execution_count": 20,
     "metadata": {},
     "output_type": "execute_result"
    }
   ],
   "source": [
    "airbnb_listings['price'].apply(type).value_counts()"
   ]
  },
  {
   "cell_type": "code",
   "execution_count": 21,
   "metadata": {
    "colab": {},
    "colab_type": "code",
    "id": "WOAaHcOjgH60"
   },
   "outputs": [],
   "source": [
    "airbnb_listings['price'] = airbnb_listings['price'].str.replace('$', '')\n",
    "airbnb_listings['price'] = airbnb_listings['price'].str.replace(',', '')"
   ]
  },
  {
   "cell_type": "code",
   "execution_count": 22,
   "metadata": {
    "colab": {},
    "colab_type": "code",
    "id": "weEcPT2vgeUc"
   },
   "outputs": [],
   "source": [
    "airbnb_listings['price'] = airbnb_listings['price'].astype('float')"
   ]
  },
  {
   "cell_type": "code",
   "execution_count": 23,
   "metadata": {
    "colab": {
     "base_uri": "https://localhost:8080/",
     "height": 282
    },
    "colab_type": "code",
    "id": "OYdpxUylAKDt",
    "outputId": "82652c2c-9684-4a76-90fd-ca16cca8668e"
   },
   "outputs": [
    {
     "data": {
      "text/html": [
       "<div>\n",
       "<style scoped>\n",
       "    .dataframe tbody tr th:only-of-type {\n",
       "        vertical-align: middle;\n",
       "    }\n",
       "\n",
       "    .dataframe tbody tr th {\n",
       "        vertical-align: top;\n",
       "    }\n",
       "\n",
       "    .dataframe thead th {\n",
       "        text-align: right;\n",
       "    }\n",
       "</style>\n",
       "<table border=\"1\" class=\"dataframe\">\n",
       "  <thead>\n",
       "    <tr style=\"text-align: right;\">\n",
       "      <th></th>\n",
       "      <th>id</th>\n",
       "      <th>host_id</th>\n",
       "      <th>calculated_host_listings_count</th>\n",
       "      <th>minimum_nights</th>\n",
       "      <th>availability_365</th>\n",
       "      <th>price</th>\n",
       "      <th>number_of_reviews</th>\n",
       "      <th>reviews_per_month</th>\n",
       "      <th>latitude</th>\n",
       "      <th>longitude</th>\n",
       "    </tr>\n",
       "  </thead>\n",
       "  <tbody>\n",
       "    <tr>\n",
       "      <th>count</th>\n",
       "      <td>1.977200e+04</td>\n",
       "      <td>1.977200e+04</td>\n",
       "      <td>19772.000000</td>\n",
       "      <td>19772.000000</td>\n",
       "      <td>19772.000000</td>\n",
       "      <td>19772.000000</td>\n",
       "      <td>19772.000000</td>\n",
       "      <td>19772.000000</td>\n",
       "      <td>19772.000000</td>\n",
       "      <td>19772.000000</td>\n",
       "    </tr>\n",
       "    <tr>\n",
       "      <th>mean</th>\n",
       "      <td>1.784076e+07</td>\n",
       "      <td>5.608537e+07</td>\n",
       "      <td>5.055533</td>\n",
       "      <td>2.910125</td>\n",
       "      <td>53.330265</td>\n",
       "      <td>159.689308</td>\n",
       "      <td>23.389440</td>\n",
       "      <td>0.860527</td>\n",
       "      <td>52.366443</td>\n",
       "      <td>4.885620</td>\n",
       "    </tr>\n",
       "    <tr>\n",
       "      <th>std</th>\n",
       "      <td>1.041890e+07</td>\n",
       "      <td>6.782976e+07</td>\n",
       "      <td>23.325749</td>\n",
       "      <td>2.607628</td>\n",
       "      <td>98.907183</td>\n",
       "      <td>159.870642</td>\n",
       "      <td>48.950806</td>\n",
       "      <td>1.299917</td>\n",
       "      <td>0.014775</td>\n",
       "      <td>0.030702</td>\n",
       "    </tr>\n",
       "    <tr>\n",
       "      <th>min</th>\n",
       "      <td>2.818000e+03</td>\n",
       "      <td>3.159000e+03</td>\n",
       "      <td>1.000000</td>\n",
       "      <td>1.000000</td>\n",
       "      <td>0.000000</td>\n",
       "      <td>0.000000</td>\n",
       "      <td>0.000000</td>\n",
       "      <td>0.000000</td>\n",
       "      <td>52.321590</td>\n",
       "      <td>4.753120</td>\n",
       "    </tr>\n",
       "    <tr>\n",
       "      <th>25%</th>\n",
       "      <td>9.249698e+06</td>\n",
       "      <td>8.705276e+06</td>\n",
       "      <td>1.000000</td>\n",
       "      <td>2.000000</td>\n",
       "      <td>0.000000</td>\n",
       "      <td>99.000000</td>\n",
       "      <td>2.000000</td>\n",
       "      <td>0.140000</td>\n",
       "      <td>52.355830</td>\n",
       "      <td>4.862770</td>\n",
       "    </tr>\n",
       "    <tr>\n",
       "      <th>50%</th>\n",
       "      <td>1.762193e+07</td>\n",
       "      <td>2.573488e+07</td>\n",
       "      <td>1.000000</td>\n",
       "      <td>2.000000</td>\n",
       "      <td>0.000000</td>\n",
       "      <td>130.000000</td>\n",
       "      <td>9.000000</td>\n",
       "      <td>0.430000</td>\n",
       "      <td>52.365285</td>\n",
       "      <td>4.885295</td>\n",
       "    </tr>\n",
       "    <tr>\n",
       "      <th>75%</th>\n",
       "      <td>2.594477e+07</td>\n",
       "      <td>7.636854e+07</td>\n",
       "      <td>1.000000</td>\n",
       "      <td>3.000000</td>\n",
       "      <td>47.000000</td>\n",
       "      <td>180.000000</td>\n",
       "      <td>23.000000</td>\n",
       "      <td>0.990000</td>\n",
       "      <td>52.375563</td>\n",
       "      <td>4.905650</td>\n",
       "    </tr>\n",
       "    <tr>\n",
       "      <th>max</th>\n",
       "      <td>3.759099e+07</td>\n",
       "      <td>2.839422e+08</td>\n",
       "      <td>208.000000</td>\n",
       "      <td>31.000000</td>\n",
       "      <td>365.000000</td>\n",
       "      <td>8915.000000</td>\n",
       "      <td>767.000000</td>\n",
       "      <td>33.670000</td>\n",
       "      <td>52.424710</td>\n",
       "      <td>4.980150</td>\n",
       "    </tr>\n",
       "  </tbody>\n",
       "</table>\n",
       "</div>"
      ],
      "text/plain": [
       "                 id       host_id  calculated_host_listings_count  \\\n",
       "count  1.977200e+04  1.977200e+04                    19772.000000   \n",
       "mean   1.784076e+07  5.608537e+07                        5.055533   \n",
       "std    1.041890e+07  6.782976e+07                       23.325749   \n",
       "min    2.818000e+03  3.159000e+03                        1.000000   \n",
       "25%    9.249698e+06  8.705276e+06                        1.000000   \n",
       "50%    1.762193e+07  2.573488e+07                        1.000000   \n",
       "75%    2.594477e+07  7.636854e+07                        1.000000   \n",
       "max    3.759099e+07  2.839422e+08                      208.000000   \n",
       "\n",
       "       minimum_nights  availability_365         price  number_of_reviews  \\\n",
       "count    19772.000000      19772.000000  19772.000000       19772.000000   \n",
       "mean         2.910125         53.330265    159.689308          23.389440   \n",
       "std          2.607628         98.907183    159.870642          48.950806   \n",
       "min          1.000000          0.000000      0.000000           0.000000   \n",
       "25%          2.000000          0.000000     99.000000           2.000000   \n",
       "50%          2.000000          0.000000    130.000000           9.000000   \n",
       "75%          3.000000         47.000000    180.000000          23.000000   \n",
       "max         31.000000        365.000000   8915.000000         767.000000   \n",
       "\n",
       "       reviews_per_month      latitude     longitude  \n",
       "count       19772.000000  19772.000000  19772.000000  \n",
       "mean            0.860527     52.366443      4.885620  \n",
       "std             1.299917      0.014775      0.030702  \n",
       "min             0.000000     52.321590      4.753120  \n",
       "25%             0.140000     52.355830      4.862770  \n",
       "50%             0.430000     52.365285      4.885295  \n",
       "75%             0.990000     52.375563      4.905650  \n",
       "max            33.670000     52.424710      4.980150  "
      ]
     },
     "execution_count": 23,
     "metadata": {},
     "output_type": "execute_result"
    }
   ],
   "source": [
    "airbnb_listings.describe()"
   ]
  },
  {
   "cell_type": "code",
   "execution_count": 24,
   "metadata": {
    "colab": {
     "base_uri": "https://localhost:8080/",
     "height": 35
    },
    "colab_type": "code",
    "id": "kWJ-AhpNBK7C",
    "outputId": "990d55f6-81ba-4a88-f8d4-37cca3ae86f9"
   },
   "outputs": [
    {
     "data": {
      "text/plain": [
       "(19772, 16)"
      ]
     },
     "execution_count": 24,
     "metadata": {},
     "output_type": "execute_result"
    }
   ],
   "source": [
    "airbnb_listings.shape"
   ]
  },
  {
   "cell_type": "markdown",
   "metadata": {
    "colab_type": "text",
    "id": "ihhiZeYJBAus"
   },
   "source": [
    "Below is a statistical summary of the columns in the dataframe. We can conclude that:\n",
    "\n",
    "- there are 19772 rows of data being considered\n",
    "- all listings are about 52.3 latitude and about 4.8 longitude squarely fitting into Amsterdam's geographic location\n",
    "- the listing price ranges between 0 USD and 8915 USD with mean price of 160 USD and standard deviation of 160 USD suggesting a very broad price range distribution\n",
    "- the minimum nights limit ranges betweeen 1 and 31 as determined above. It averages at 2.9, but as we have seen it is not normally distributed\n",
    "- on average the listings are available 53 days per year. It would be interesting to understand if the listings are available in short intervals (such as weekends) or long intervals (several months at a time). Perhaps this can be understood by looking at the correlation between minimum nights and availability."
   ]
  },
  {
   "cell_type": "code",
   "execution_count": 25,
   "metadata": {
    "colab": {},
    "colab_type": "code",
    "id": "iWL8mVjFh_J7"
   },
   "outputs": [],
   "source": [
    "#separate out numerical variables\n",
    "a=pd.DataFrame(airbnb_listings.dtypes.copy())\n",
    "b= a[a[0] != 'object'].reset_index()\n",
    "#drop id and host id:\n",
    "numeric_vars=b[\"index\"].tolist()[2:]\n"
   ]
  },
  {
   "cell_type": "code",
   "execution_count": 26,
   "metadata": {
    "colab": {
     "base_uri": "https://localhost:8080/",
     "height": 159
    },
    "colab_type": "code",
    "id": "HmkICr4rkkp5",
    "outputId": "456bbe4e-65b2-4772-ae6d-bd5698304229"
   },
   "outputs": [
    {
     "data": {
      "text/plain": [
       "['calculated_host_listings_count',\n",
       " 'minimum_nights',\n",
       " 'availability_365',\n",
       " 'price',\n",
       " 'number_of_reviews',\n",
       " 'reviews_per_month',\n",
       " 'latitude',\n",
       " 'longitude']"
      ]
     },
     "execution_count": 26,
     "metadata": {},
     "output_type": "execute_result"
    }
   ],
   "source": [
    "numeric_vars"
   ]
  },
  {
   "cell_type": "code",
   "execution_count": 27,
   "metadata": {
    "colab": {
     "base_uri": "https://localhost:8080/",
     "height": 825
    },
    "colab_type": "code",
    "id": "tFztbCMiiUOF",
    "outputId": "40e6060c-e72b-4dc5-9b48-9653da8606ea"
   },
   "outputs": [
    {
     "data": {
      "image/png": "[encoded data removed]",
      "text/plain": [
       "<Figure size 1008x1008 with 8 Axes>"
      ]
     },
     "metadata": {},
     "output_type": "display_data"
    }
   ],
   "source": [
    "fig = plt.figure(figsize=(14,14))\n",
    "ax1 = fig.add_subplot(3, 3, 1)\n",
    "ax2 = fig.add_subplot(3, 3, 2)\n",
    "ax3 = fig.add_subplot(3, 3, 3)\n",
    "ax4 = fig.add_subplot(3, 3, 4)\n",
    "ax5 = fig.add_subplot(3, 3, 5)\n",
    "ax6 = fig.add_subplot(3, 3, 6)\n",
    "ax7 = fig.add_subplot(3, 3, 7)\n",
    "ax8 = fig.add_subplot(3, 3, 8)\n",
    "\n",
    "ax1.hist(airbnb_listings[numeric_vars[0]], bins=30)\n",
    "ax1.set_ylabel(\"Frequency\")\n",
    "ax1.set_title(numeric_vars[0])\n",
    "\n",
    "ax2.hist(airbnb_listings[numeric_vars[1]], bins=30)\n",
    "ax2.set_ylabel(\"Frequency\")\n",
    "ax2.set_title(numeric_vars[1])\n",
    "\n",
    "ax3.hist((airbnb_listings[numeric_vars[2]]), bins=30)\n",
    "ax3.set_ylabel(\"Frequency\")\n",
    "ax3.set_title(numeric_vars[2])\n",
    "\n",
    "ax4.hist(airbnb_listings[numeric_vars[3]], bins=30)\n",
    "ax4.set_ylabel(\"Frequency\")\n",
    "ax4.set_title(numeric_vars[3])\n",
    "\n",
    "ax5.hist(airbnb_listings[numeric_vars[4]], bins=30)\n",
    "ax5.set_ylabel(\"Frequency\")\n",
    "ax5.set_title(numeric_vars[4])\n",
    "\n",
    "ax6.hist(airbnb_listings[numeric_vars[5]], bins=30)\n",
    "ax6.set_ylabel(\"Frequency\")\n",
    "ax6.set_title(numeric_vars[5])\n",
    "\n",
    "ax7.hist(airbnb_listings[numeric_vars[6]])\n",
    "ax7.set_ylabel(\"Frequency\")\n",
    "ax7.set_title(numeric_vars[6])\n",
    "\n",
    "ax8.hist(airbnb_listings[numeric_vars[7]])\n",
    "ax8.set_ylabel(\"Frequency\")\n",
    "ax8.set_title(numeric_vars[7])\n",
    "\n",
    "\n",
    "plt.show()\n"
   ]
  },
  {
   "cell_type": "markdown",
   "metadata": {
    "colab_type": "text",
    "id": "Lj9qWmG7jRHw"
   },
   "source": [
    "Looking at the distributions, clearly the following are heavily right skewed:\n",
    "\n",
    "- price\n",
    "- minimum_nights\n",
    "- available_365\n",
    "- number of reviews\n",
    "- reviews per month\n",
    "- calculated_host_lising_count\n",
    "\n",
    "One way to reduce the skeweness is to logarithmically transform the distributions"
   ]
  },
  {
   "cell_type": "code",
   "execution_count": 28,
   "metadata": {
    "colab": {
     "base_uri": "https://localhost:8080/",
     "height": 159
    },
    "colab_type": "code",
    "id": "t5Vp6wkojQp0",
    "outputId": "cd197e9d-1960-4bc7-9251-d1c428c06d6f"
   },
   "outputs": [
    {
     "data": {
      "text/plain": [
       "['calculated_host_listings_count',\n",
       " 'minimum_nights',\n",
       " 'availability_365',\n",
       " 'price',\n",
       " 'number_of_reviews',\n",
       " 'reviews_per_month',\n",
       " 'latitude',\n",
       " 'longitude']"
      ]
     },
     "execution_count": 28,
     "metadata": {},
     "output_type": "execute_result"
    }
   ],
   "source": [
    "numeric_vars"
   ]
  },
  {
   "cell_type": "markdown",
   "metadata": {
    "colab_type": "text",
    "id": "tcC9Y9R_kAt9"
   },
   "source": [
    "Now, we need to check and remove any entries with price \"0\" for log conversion because otherwise it will throw a \"divide by zero\" Runtime error"
   ]
  },
  {
   "cell_type": "code",
   "execution_count": 29,
   "metadata": {
    "colab": {},
    "colab_type": "code",
    "id": "VY4ni3Alc3Vg"
   },
   "outputs": [],
   "source": [
    "airbnb_listings = airbnb_listings.loc[airbnb_listings['price'] != 0]"
   ]
  },
  {
   "cell_type": "code",
   "execution_count": 30,
   "metadata": {
    "colab": {
     "base_uri": "https://localhost:8080/",
     "height": 825
    },
    "colab_type": "code",
    "id": "vAYopECljwC7",
    "outputId": "56badc1c-4791-42fe-b012-2a022e196c38"
   },
   "outputs": [
    {
     "data": {
      "image/png": "[encoded data removed]",
      "text/plain": [
       "<Figure size 1008x1008 with 8 Axes>"
      ]
     },
     "metadata": {},
     "output_type": "display_data"
    }
   ],
   "source": [
    "fig = plt.figure(figsize=(14,14))\n",
    "ax1 = fig.add_subplot(3, 3, 1)\n",
    "ax2 = fig.add_subplot(3, 3, 2)\n",
    "ax3 = fig.add_subplot(3, 3, 3)\n",
    "ax4 = fig.add_subplot(3, 3, 4)\n",
    "ax5 = fig.add_subplot(3, 3, 5)\n",
    "ax6 = fig.add_subplot(3, 3, 6)\n",
    "ax7 = fig.add_subplot(3, 3, 7)\n",
    "ax8 = fig.add_subplot(3, 3, 8)\n",
    "\n",
    "ax1.hist(airbnb_listings[numeric_vars[6]], bins=30)\n",
    "ax1.set_ylabel(\"Frequency\")\n",
    "ax1.set_title(numeric_vars[6])\n",
    "\n",
    "ax2.hist(airbnb_listings[numeric_vars[7]], bins=30)\n",
    "ax2.set_ylabel(\"Frequency\")\n",
    "ax2.set_title(numeric_vars[7])\n",
    "\n",
    "ax3.hist(np.log((airbnb_listings[numeric_vars[3]])), bins=30)\n",
    "ax3.set_ylabel(\"Frequency\")\n",
    "ax3.set_title('log(price)')\n",
    "\n",
    "ax4.hist(np.log((airbnb_listings[numeric_vars[1]])), bins=31)\n",
    "ax4.set_ylabel(\"Frequency\")\n",
    "ax4.set_title(\"log(minimum nights + 1)\")\n",
    "\n",
    "ax5.hist(np.log(airbnb_listings[numeric_vars[4]]+1), bins=30)\n",
    "ax5.set_ylabel(\"Frequency\")\n",
    "ax5.set_title(\"log(number of reviews + 1)\")\n",
    "\n",
    "ax6.hist(np.log(airbnb_listings[numeric_vars[5]]+1), bins=30)\n",
    "ax6.set_ylabel(\"Frequency\")\n",
    "ax6.set_title(\"log(reviews per month + 1)\")\n",
    "\n",
    "ax7.hist(np.log(airbnb_listings[numeric_vars[0]]+1), bins=30)\n",
    "ax7.set_ylabel(\"Frequency\")\n",
    "ax7.set_title(\"log(calculated host listing count) + 1)\")\n",
    "\n",
    "ax8.hist(np.log(airbnb_listings[numeric_vars[2]]+1), bins=30)\n",
    "ax8.set_ylabel(\"Frequency\")\n",
    "ax8.set_title(\"log(availability 365 + 1)\")\n",
    "\n",
    "plt.show()"
   ]
  },
  {
   "cell_type": "code",
   "execution_count": 31,
   "metadata": {
    "colab": {},
    "colab_type": "code",
    "id": "Pm2Y9R-T5wOc"
   },
   "outputs": [],
   "source": [
    "for num in numeric_vars[:6]:\n",
    "    airbnb_listings[\"log_(\"+num+\" +1)\"] = np.log(airbnb_listings[num]+1)\n",
    "airbnb_listings[\"log_price\"] = np.log(airbnb_listings.price)\n",
    "airbnb_listings=airbnb_listings.drop(columns = numeric_vars[:6]).copy()"
   ]
  },
  {
   "cell_type": "code",
   "execution_count": 34,
   "metadata": {
    "colab": {
     "base_uri": "https://localhost:8080/",
     "height": 319
    },
    "colab_type": "code",
    "id": "Gh7oTmhi6EpF",
    "outputId": "ed24d93b-7eb4-488b-e92c-0924975de144"
   },
   "outputs": [
    {
     "data": {
      "text/plain": [
       "['id',\n",
       " 'name',\n",
       " 'host_id',\n",
       " 'host_name',\n",
       " 'room_type',\n",
       " 'last_review',\n",
       " 'neighbourhood_cleansed',\n",
       " 'neighbourhood',\n",
       " 'latitude',\n",
       " 'longitude',\n",
       " 'log_(calculated_host_listings_count +1)',\n",
       " 'log_(minimum_nights +1)',\n",
       " 'log_(availability_365 +1)',\n",
       " 'log_(price +1)',\n",
       " 'log_(number_of_reviews +1)',\n",
       " 'log_(reviews_per_month +1)',\n",
       " 'log_price']"
      ]
     },
     "execution_count": 34,
     "metadata": {},
     "output_type": "execute_result"
    }
   ],
   "source": [
    "airbnb_listings.columns.tolist()"
   ]
  },
  {
   "cell_type": "code",
   "execution_count": 35,
   "metadata": {
    "colab": {},
    "colab_type": "code",
    "id": "0S0h9VJ46Pwy"
   },
   "outputs": [],
   "source": [
    "airbnb_listings = airbnb_listings.drop(['log_(price +1)'], axis=1)"
   ]
  },
  {
   "cell_type": "markdown",
   "metadata": {
    "colab_type": "text",
    "id": "ktnsrTi07pU7"
   },
   "source": [
    "Note that logarithmic data transformation was used to smooth out the distributions.\n",
    "\n",
    "Let's see if any correlations between variables start to emerge:\n",
    "\n"
   ]
  },
  {
   "cell_type": "code",
   "execution_count": 36,
   "metadata": {
    "colab": {},
    "colab_type": "code",
    "id": "lmlNwJdc7dOE"
   },
   "outputs": [],
   "source": [
    "numeric_vars = airbnb_listings.columns.tolist()[8:16]"
   ]
  },
  {
   "cell_type": "code",
   "execution_count": 37,
   "metadata": {
    "colab": {
     "base_uri": "https://localhost:8080/",
     "height": 159
    },
    "colab_type": "code",
    "id": "x_Adkzh973Xo",
    "outputId": "04382c8c-18fa-49f0-89bd-3c047dae2a93"
   },
   "outputs": [
    {
     "data": {
      "text/plain": [
       "['latitude',\n",
       " 'longitude',\n",
       " 'log_(calculated_host_listings_count +1)',\n",
       " 'log_(minimum_nights +1)',\n",
       " 'log_(availability_365 +1)',\n",
       " 'log_(number_of_reviews +1)',\n",
       " 'log_(reviews_per_month +1)',\n",
       " 'log_price']"
      ]
     },
     "execution_count": 37,
     "metadata": {},
     "output_type": "execute_result"
    }
   ],
   "source": [
    "numeric_vars"
   ]
  },
  {
   "cell_type": "code",
   "execution_count": 38,
   "metadata": {
    "colab": {
     "base_uri": "https://localhost:8080/",
     "height": 457
    },
    "colab_type": "code",
    "id": "PMIKTnn_7-JR",
    "outputId": "091536c6-648b-4e26-9cf5-7ab80e7e3d18"
   },
   "outputs": [
    {
     "data": {
      "image/png": "[encoded data removed]",
      "text/plain": [
       "<Figure size 432x288 with 2 Axes>"
      ]
     },
     "metadata": {},
     "output_type": "display_data"
    }
   ],
   "source": [
    "import seaborn as sns\n",
    "x=airbnb_listings[numeric_vars].apply(lambda x: np.log(np.abs(x+1))).corr(method='pearson')\n",
    "sns.heatmap(x, annot=True)\n",
    "plt.show()"
   ]
  },
  {
   "cell_type": "markdown",
   "metadata": {
    "colab_type": "text",
    "id": "PqOuWQDL8h3K"
   },
   "source": [
    "- Price is also positively correlated with: increasing availability, the fact that the property is rented by a host who lists other properties, and increasing number of minimum nights\n",
    "- Price is negatively correlated with number of reviews and reviews per month, indicating that it is possible that the prior reviews could depress the prices to some extent\n",
    "-Longitude and Latitude do not seem to have any significant effect on the price."
   ]
  },
  {
   "cell_type": "markdown",
   "metadata": {
    "colab_type": "text",
    "id": "hWcIL7JW9It-"
   },
   "source": [
    "Next, let us focus on non-numerical variables\n"
   ]
  },
  {
   "cell_type": "code",
   "execution_count": 39,
   "metadata": {
    "colab": {
     "base_uri": "https://localhost:8080/",
     "height": 35
    },
    "colab_type": "code",
    "id": "DVQJYF9P9HYQ",
    "outputId": "64a4d58b-cdf2-4c37-9f5f-00b07b3dc489"
   },
   "outputs": [
    {
     "name": "stdout",
     "output_type": "stream",
     "text": [
      "['name', 'host_name', 'room_type', 'last_review', 'neighbourhood_cleansed', 'neighbourhood']\n"
     ]
    }
   ],
   "source": [
    "#separate out numerical variables\n",
    "a=pd.DataFrame(airbnb_listings.dtypes.copy())\n",
    "b= a[a[0] == 'object'].reset_index()\n",
    "#drop id and host id:\n",
    "non_num=b[\"index\"].tolist()\n",
    "print(non_num)"
   ]
  },
  {
   "cell_type": "markdown",
   "metadata": {
    "colab_type": "text",
    "id": "GfyxmQqu9u64"
   },
   "source": [
    "We already know that location is an important price determinant. Hence let's dig a bit deeper to see how mean prices vary by neighborhood"
   ]
  },
  {
   "cell_type": "code",
   "execution_count": 40,
   "metadata": {
    "colab": {
     "base_uri": "https://localhost:8080/",
     "height": 567
    },
    "colab_type": "code",
    "id": "F_5GMyOJ9SGf",
    "outputId": "96bb9285-a181-4069-8e40-100075f91b46"
   },
   "outputs": [
    {
     "data": {
      "image/png": "[encoded data removed]",
      "text/plain": [
       "<Figure size 1152x648 with 2 Axes>"
      ]
     },
     "metadata": {},
     "output_type": "display_data"
    }
   ],
   "source": [
    "y = airbnb_listings.latitude\n",
    "x = airbnb_listings.longitude\n",
    "p = airbnb_listings.log_price\n",
    "plt.figure(figsize=(16,9))\n",
    "plt.scatter(x,y,c=p,cmap='viridis')\n",
    "plt.colorbar()\n",
    "plt.xlabel(\"Longitude\")\n",
    "plt.ylabel(\"Latitude\")\n",
    "plt.title(\"Distribution of listing prices\")\n",
    "plt.show()"
   ]
  },
  {
   "cell_type": "markdown",
   "metadata": {
    "colab_type": "text",
    "id": "4Rf-mv-akWjc"
   },
   "source": [
    "- The scatter plot above visualizes the geographical distribution of listings along with the relative pricing (increasing with brightening color).\n",
    "\n",
    "- Let's group the data by neighbourhood, deriving mean pricing for each neighbourhood:"
   ]
  },
  {
   "cell_type": "code",
   "execution_count": 41,
   "metadata": {
    "colab": {
     "base_uri": "https://localhost:8080/",
     "height": 295
    },
    "colab_type": "code",
    "id": "qQL6AHgbkVe7",
    "outputId": "fd8c36f4-7713-4010-fafc-49d3a0fcb779"
   },
   "outputs": [
    {
     "data": {
      "image/png": "[encoded data removed]",
      "text/plain": [
       "<Figure size 1008x288 with 3 Axes>"
      ]
     },
     "metadata": {},
     "output_type": "display_data"
    }
   ],
   "source": [
    "grouped = airbnb_listings.groupby(\"neighbourhood\")\n",
    "price_grouped = grouped[\"log_price\"]\n",
    "price = price_grouped.agg([np.mean,np.median,np.max, np.std]).sort_values(\"mean\")\n",
    "\n",
    "\n",
    "fig = plt.figure(figsize=(14,4))\n",
    "ax1 = fig.add_subplot(1, 3, 1)\n",
    "ax2 = fig.add_subplot(1, 3, 2)\n",
    "ax3 = fig.add_subplot(1, 3, 3)\n",
    "\n",
    "ax1.barh(price.index,price[\"mean\"])\n",
    "ax1.set_yticklabels([])\n",
    "ax1.set_ylabel(\"Neighbourhood\")\n",
    "ax1.set_xlabel(\"Mean Price\")\n",
    "ax1.set_title(\"Mean Listing Price per Neighbourhood, Sorted\")\n",
    "ax1.set_xlim(3,7)\n",
    "\n",
    "ax2.barh(price.index,price[\"median\"])\n",
    "ax2.set_yticklabels([])\n",
    "ax2.set_ylabel(\"Neighbourhood\")\n",
    "ax2.set_xlabel(\"Median Price\")\n",
    "ax2.set_title(\"Median Listing Price per Neighbourhood\")\n",
    "ax2.set_xlim(3,7)\n",
    "\n",
    "ax3.barh(price.index,price[\"std\"])\n",
    "ax3.set_yticklabels([])\n",
    "ax3.set_ylabel(\"Neighbourhood\")\n",
    "ax3.set_xlabel(\"Standard Deviation of Price\")\n",
    "ax3.set_title(\"StDev of Listing Prices per Neighbourhood\")\n",
    "plt.show()"
   ]
  },
  {
   "cell_type": "markdown",
   "metadata": {
    "colab_type": "text",
    "id": "iSVPUfIsk0dj"
   },
   "source": [
    "Based on current findings it is worth to one-hot encode the neighbourhood variable:"
   ]
  },
  {
   "cell_type": "code",
   "execution_count": 42,
   "metadata": {
    "colab": {},
    "colab_type": "code",
    "id": "ZLRP9fb1k2xm"
   },
   "outputs": [],
   "source": [
    "#One hot encoding\n",
    "airbnb_listings = pd.concat([airbnb_listings, pd.get_dummies(airbnb_listings[\"neighbourhood\"], drop_first=False)], axis=1)\n",
    "#save neighborhoods into a list for further analysis:\n",
    "neighbourhoods = airbnb_listings.neighbourhood.values.tolist()\n",
    "# boroughs = df.neighbourhood_group.unique().tolist()\n",
    "#drop the neighbourhood column from the database\n",
    "airbnb_listings.drop(['neighbourhood'],axis=1, inplace=True)"
   ]
  },
  {
   "cell_type": "code",
   "execution_count": 43,
   "metadata": {
    "colab": {
     "base_uri": "https://localhost:8080/",
     "height": 35
    },
    "colab_type": "code",
    "id": "5P_ObmEDlO2T",
    "outputId": "3d95699a-7af7-4cac-973c-65d39008eaa9"
   },
   "outputs": [
    {
     "data": {
      "text/plain": [
       "(19771, 59)"
      ]
     },
     "execution_count": 43,
     "metadata": {},
     "output_type": "execute_result"
    }
   ],
   "source": [
    "airbnb_listings.shape"
   ]
  },
  {
   "cell_type": "markdown",
   "metadata": {
    "colab_type": "text",
    "id": "mXUWdFB6lYqm"
   },
   "source": [
    "The next obvious variable to evaluate is Room type. This variable provides information about relative privacy that comes with the listing as well as its size\n",
    "\n"
   ]
  },
  {
   "cell_type": "markdown",
   "metadata": {
    "colab_type": "text",
    "id": "oJwzsQqgHDEQ"
   },
   "source": [
    "The following table shows some basic statistics about the \"log_price\" grouped according to the \"room_type\""
   ]
  },
  {
   "cell_type": "code",
   "execution_count": 44,
   "metadata": {
    "colab": {
     "base_uri": "https://localhost:8080/",
     "height": 164
    },
    "colab_type": "code",
    "id": "BQj3xrQWG5Kq",
    "outputId": "8a375491-b5b3-4859-c044-d3fca2ba40c2"
   },
   "outputs": [
    {
     "data": {
      "text/html": [
       "<div>\n",
       "<style scoped>\n",
       "    .dataframe tbody tr th:only-of-type {\n",
       "        vertical-align: middle;\n",
       "    }\n",
       "\n",
       "    .dataframe tbody tr th {\n",
       "        vertical-align: top;\n",
       "    }\n",
       "\n",
       "    .dataframe thead th {\n",
       "        text-align: right;\n",
       "    }\n",
       "</style>\n",
       "<table border=\"1\" class=\"dataframe\">\n",
       "  <thead>\n",
       "    <tr style=\"text-align: right;\">\n",
       "      <th></th>\n",
       "      <th>mean</th>\n",
       "      <th>median</th>\n",
       "      <th>amax</th>\n",
       "      <th>std</th>\n",
       "    </tr>\n",
       "    <tr>\n",
       "      <th>room_type</th>\n",
       "      <th></th>\n",
       "      <th></th>\n",
       "      <th></th>\n",
       "      <th></th>\n",
       "    </tr>\n",
       "  </thead>\n",
       "  <tbody>\n",
       "    <tr>\n",
       "      <th>Shared room</th>\n",
       "      <td>4.384217</td>\n",
       "      <td>4.134366</td>\n",
       "      <td>6.907755</td>\n",
       "      <td>1.104750</td>\n",
       "    </tr>\n",
       "    <tr>\n",
       "      <th>Private room</th>\n",
       "      <td>4.551729</td>\n",
       "      <td>4.499810</td>\n",
       "      <td>8.929303</td>\n",
       "      <td>0.491092</td>\n",
       "    </tr>\n",
       "    <tr>\n",
       "      <th>Entire home/apt</th>\n",
       "      <td>5.013930</td>\n",
       "      <td>4.980170</td>\n",
       "      <td>9.095491</td>\n",
       "      <td>0.465678</td>\n",
       "    </tr>\n",
       "  </tbody>\n",
       "</table>\n",
       "</div>"
      ],
      "text/plain": [
       "                     mean    median      amax       std\n",
       "room_type                                              \n",
       "Shared room      4.384217  4.134366  6.907755  1.104750\n",
       "Private room     4.551729  4.499810  8.929303  0.491092\n",
       "Entire home/apt  5.013930  4.980170  9.095491  0.465678"
      ]
     },
     "execution_count": 44,
     "metadata": {},
     "output_type": "execute_result"
    }
   ],
   "source": [
    "grouped = airbnb_listings.groupby(\"room_type\")\n",
    "room_type_price_grouped = grouped[\"log_price\"]\n",
    "room_type_price = room_type_price_grouped.agg([np.mean,np.median,np.max, np.std]).sort_values(\"mean\")\n",
    "room_type_price"
   ]
  },
  {
   "cell_type": "markdown",
   "metadata": {
    "colab_type": "text",
    "id": "ziFM0LHjyJHf"
   },
   "source": [
    "This shows that the data most likely includes some outliers but I am not removing them for now for the sake of simplicity."
   ]
  },
  {
   "cell_type": "markdown",
   "metadata": {
    "colab_type": "text",
    "id": "3CkRU7xAH2Xm"
   },
   "source": [
    "Now, we are also converting the room_types to dummies (separate columns of each room_type and dropping the column itself)"
   ]
  },
  {
   "cell_type": "code",
   "execution_count": 45,
   "metadata": {
    "colab": {},
    "colab_type": "code",
    "id": "D7zmgipgHrsP"
   },
   "outputs": [],
   "source": [
    "#convert room types to dummies\n",
    "airbnb_listings = pd.concat([airbnb_listings, pd.get_dummies(airbnb_listings[\"room_type\"], drop_first=False)], axis=1)\n",
    "airbnb_listings.drop(['room_type'],axis=1, inplace=True)"
   ]
  },
  {
   "cell_type": "code",
   "execution_count": 46,
   "metadata": {
    "colab": {
     "base_uri": "https://localhost:8080/",
     "height": 35
    },
    "colab_type": "code",
    "id": "KrdzyStrIKs1",
    "outputId": "44b073f2-85cf-4a48-a187-13c97e7c874d"
   },
   "outputs": [
    {
     "data": {
      "text/plain": [
       "(19771, 61)"
      ]
     },
     "execution_count": 46,
     "metadata": {},
     "output_type": "execute_result"
    }
   ],
   "source": [
    "airbnb_listings.shape"
   ]
  },
  {
   "cell_type": "markdown",
   "metadata": {
    "colab_type": "text",
    "id": "zl-wKH0CINR3"
   },
   "source": [
    "\"Last review\" is a data when last review has been posted. Perhaps the most effective way of dealing with this variable is to\n",
    "\n",
    "- covert it to number of days since last review counting down from the data the data was scraped off the web\n",
    "- categorize"
   ]
  },
  {
   "cell_type": "code",
   "execution_count": 47,
   "metadata": {
    "colab": {
     "base_uri": "https://localhost:8080/",
     "height": 35
    },
    "colab_type": "code",
    "id": "xFJ3szC1Ii35",
    "outputId": "1f2bb46d-bad5-4258-c19a-32ee148983e4"
   },
   "outputs": [
    {
     "name": "stdout",
     "output_type": "stream",
     "text": [
      "2019-08-08 00:00:00\n"
     ]
    }
   ],
   "source": [
    "import datetime as dt\n",
    "#convert object to datetime:\n",
    "airbnb_listings[\"last_review\"] = pd.to_datetime(airbnb_listings[\"last_review\"])\n",
    "#Check the latest review date in the datebase:\n",
    "print(airbnb_listings[\"last_review\"].max())"
   ]
  },
  {
   "cell_type": "markdown",
   "metadata": {
    "colab_type": "text",
    "id": "ziARaqOVIoHb"
   },
   "source": [
    "The last review in the database dates to 8th August, 2019, which will be used as time zero for analysis:\n",
    "\n"
   ]
  },
  {
   "cell_type": "code",
   "execution_count": 48,
   "metadata": {
    "colab": {
     "base_uri": "https://localhost:8080/",
     "height": 295
    },
    "colab_type": "code",
    "id": "9YchI8aJI6Uo",
    "outputId": "ff8fec9e-3aa8-4d4f-bb5b-bdf945340a8d"
   },
   "outputs": [
    {
     "data": {
      "image/png": "[encoded data removed]",
      "text/plain": [
       "<Figure size 432x288 with 1 Axes>"
      ]
     },
     "metadata": {},
     "output_type": "display_data"
    }
   ],
   "source": [
    "airbnb_listings[\"last_review\"]=airbnb_listings[\"last_review\"].apply(lambda x: dt.datetime(2019,7,8)-x)\n",
    "airbnb_listings[\"last_review\"]=airbnb_listings[\"last_review\"].dt.days.astype(\"int\").replace(18085, 1900)\n",
    "plt.hist(airbnb_listings[\"last_review\"], bins=100)\n",
    "plt.ylabel(\"Frequency\")\n",
    "plt.xlabel(\"Days since last review\")\n",
    "plt.ylabel(\"Frequency\")\n",
    "plt.title(\"Histogram of days since last review\")\n",
    "plt.show()"
   ]
  },
  {
   "cell_type": "markdown",
   "metadata": {
    "colab_type": "text",
    "id": "rFe0O6DKP0c7"
   },
   "source": [
    "Replace with the following categories for simplification:\n",
    "\n",
    "- last month \n",
    "- last 6 months\n",
    "- last year\n",
    "- last 5 years\n",
    "- never"
   ]
  },
  {
   "cell_type": "code",
   "execution_count": 49,
   "metadata": {
    "colab": {
     "base_uri": "https://localhost:8080/",
     "height": 281
    },
    "colab_type": "code",
    "id": "z61bkHkpP-uc",
    "outputId": "a3ce2d7a-7d83-4b79-8067-bc258162b821"
   },
   "outputs": [
    {
     "data": {
      "image/png": "[encoded data removed]",
      "text/plain": [
       "<Figure size 432x288 with 1 Axes>"
      ]
     },
     "metadata": {},
     "output_type": "display_data"
    }
   ],
   "source": [
    "def date_replacement(date):\n",
    "    if date <=3:\n",
    "        return \"Last_review_last_three_day\"\n",
    "    elif date <= 7:\n",
    "        return \"Last_review_last_week\"\n",
    "    elif date <= 30:\n",
    "        return \"Last_review_last_month\"\n",
    "    elif date <= 183:\n",
    "        return \"Last_review_last_half_year\"\n",
    "    elif date <= 365:\n",
    "        return \"Last_review_last year\"\n",
    "    elif date <= 1825:\n",
    "        return \"Last_review_last_5_years\"\n",
    "    else:\n",
    "        return \"Last_review_never\" \n",
    "\n",
    "    \n",
    "airbnb_listings[\"last_review\"]=airbnb_listings[\"last_review\"].apply(lambda x: date_replacement(x))\n",
    "sns.boxplot(x=\"last_review\", y=airbnb_listings.log_price, data=airbnb_listings)\n",
    "plt.show()"
   ]
  },
  {
   "cell_type": "markdown",
   "metadata": {
    "colab_type": "text",
    "id": "RKd9m-nPQUHY"
   },
   "source": [
    "Time since last review does not show any clear trend on the sale of entire dataset. Yet it may be important to keep the categorical values included for later machine learning experiments.\n",
    "\n",
    "\n"
   ]
  },
  {
   "cell_type": "code",
   "execution_count": 50,
   "metadata": {
    "colab": {},
    "colab_type": "code",
    "id": "-LPVpcBYQVuS"
   },
   "outputs": [],
   "source": [
    "#convert last review to dummies\n",
    "airbnb_listings = pd.concat([airbnb_listings, pd.get_dummies(airbnb_listings[\"last_review\"], drop_first=False)], axis=1)\n",
    "airbnb_listings.drop([\"last_review\"],axis=1, inplace=True)"
   ]
  },
  {
   "cell_type": "markdown",
   "metadata": {
    "colab_type": "text",
    "id": "XTezirUkKWWm"
   },
   "source": [
    "Now, let us do some Natural Language Processing to obtain more insights from the non-numerical variables"
   ]
  },
  {
   "cell_type": "code",
   "execution_count": 51,
   "metadata": {
    "colab": {
     "base_uri": "https://localhost:8080/",
     "height": 230
    },
    "colab_type": "code",
    "id": "fmiEAY2BQjx3",
    "outputId": "91dedffc-25ea-4b9b-dadb-f53f99b8786c"
   },
   "outputs": [
    {
     "name": "stderr",
     "output_type": "stream",
     "text": [
      "[nltk_data] Downloading package stopwords to\n",
      "[nltk_data]     C:\\Users\\Arushi\\AppData\\Roaming\\nltk_data...\n",
      "[nltk_data]   Package stopwords is already up-to-date!\n",
      "[nltk_data] Downloading package punkt to\n",
      "[nltk_data]     C:\\Users\\Arushi\\AppData\\Roaming\\nltk_data...\n",
      "[nltk_data]   Unzipping tokenizers\\punkt.zip.\n",
      "[nltk_data] Downloading package wordnet to\n",
      "[nltk_data]     C:\\Users\\Arushi\\AppData\\Roaming\\nltk_data...\n",
      "[nltk_data]   Package wordnet is already up-to-date!\n",
      "[nltk_data] Downloading package maxent_ne_chunker to\n",
      "[nltk_data]     C:\\Users\\Arushi\\AppData\\Roaming\\nltk_data...\n",
      "[nltk_data]   Unzipping chunkers\\maxent_ne_chunker.zip.\n",
      "[nltk_data] Downloading package words to\n",
      "[nltk_data]     C:\\Users\\Arushi\\AppData\\Roaming\\nltk_data...\n",
      "[nltk_data]   Package words is already up-to-date!\n"
     ]
    },
    {
     "data": {
      "text/plain": [
       "True"
      ]
     },
     "execution_count": 51,
     "metadata": {},
     "output_type": "execute_result"
    }
   ],
   "source": [
    "#import necessary libraries\n",
    "import nltk\n",
    "import os\n",
    "import nltk.corpus\n",
    "from nltk import ne_chunk\n",
    "from nltk.corpus import stopwords\n",
    "from nltk import word_tokenize\n",
    "from nltk.stem import WordNetLemmatizer\n",
    "import string\n",
    "nltk.download('stopwords')\n",
    "nltk.download('punkt')\n",
    "nltk.download('wordnet')\n",
    "nltk.download('maxent_ne_chunker')\n",
    "nltk.download('words')"
   ]
  },
  {
   "cell_type": "code",
   "execution_count": 52,
   "metadata": {
    "colab": {},
    "colab_type": "code",
    "id": "AlilbZ4UKfHm"
   },
   "outputs": [],
   "source": [
    "#initiate stopwords\n",
    "a = set(stopwords.words('english'))\n",
    "#obtain text\n",
    "text = airbnb_listings[\"name\"].iloc[10]\n",
    "#tokenize text\n",
    "text1 = word_tokenize(text.lower())\n",
    "#create a list free of stopwords\n",
    "no_stopwords = [x for x in text1 if x not in a]\n",
    "#lemmatize the words\n",
    "lemmatizer = WordNetLemmatizer() \n",
    "lemmatized = [lemmatizer.lemmatize(x) for x in no_stopwords]"
   ]
  },
  {
   "cell_type": "code",
   "execution_count": 53,
   "metadata": {
    "colab": {
     "base_uri": "https://localhost:8080/",
     "height": 279
    },
    "colab_type": "code",
    "id": "zIJwfrbPKpov",
    "outputId": "2256fc0d-6359-4630-9f9c-632d355a1d16"
   },
   "outputs": [
    {
     "data": {
      "image/png": "[encoded data removed]",
      "text/plain": [
       "<Figure size 432x288 with 1 Axes>"
      ]
     },
     "metadata": {},
     "output_type": "display_data"
    }
   ],
   "source": [
    "def unique_words1(dwelling):\n",
    "\n",
    "    apt = airbnb_listings[airbnb_listings[dwelling]==1][\"name\"]\n",
    "    a = set(stopwords.words('english'))\n",
    "    words = []\n",
    "    # append each to a list\n",
    "    for lis in range(0, len(apt)):\n",
    "        listing = apt.reset_index().iloc[lis,1]\n",
    "        #tokenize text\n",
    "        text1 = word_tokenize(listing.lower())\n",
    "        #create a list free of stopwords\n",
    "        no_stopwords = [x for x in text1 if x not in a]\n",
    "        #lemmatize the words\n",
    "        lemmatized = [lemmatizer.lemmatize(x) for x in no_stopwords]\n",
    "        no_punctuation = [x.translate(str.maketrans('','',string.punctuation)) for x in lemmatized]\n",
    "        no_digits = [x.translate(str.maketrans('','',\"0123456789\")) for x in no_punctuation ]\n",
    "        for item in no_digits:\n",
    "            words.append(item)\n",
    "\n",
    "\n",
    "    #create a dictionary\n",
    "    unique={}\n",
    "    for word in words:\n",
    "        if word in unique:\n",
    "            unique[word] +=1\n",
    "        else:\n",
    "            unique[word] = 1\n",
    "\n",
    "    #sort the dictionary\n",
    "    a=[]\n",
    "    b=[]\n",
    "\n",
    "    for key, value in unique.items():\n",
    "        a.append(key)\n",
    "        b.append(value)\n",
    "\n",
    "    aa=pd.Series(a)\n",
    "    bb=pd.Series(b)    \n",
    "\n",
    "    comb=pd.concat([aa,bb],axis=1).sort_values(by=1, ascending=False).copy()\n",
    "\n",
    "    return comb\n",
    "\n",
    "#apply the function\n",
    "private = unique_words1(\"Private room\")\n",
    "home = unique_words1(\"Entire home/apt\")\n",
    "shared = unique_words1(\"Shared room\")\n",
    "\n",
    "words_private = private.iloc[1:,1]\n",
    "words_home = home.iloc[1:,1] \n",
    "words_shared = shared.iloc[1:,1] \n",
    "\n",
    "#plot the results\n",
    "plt.plot(words_shared.reset_index()[1], label=\"shared\")\n",
    "plt.plot(words_private.reset_index()[1], label =\"private\")\n",
    "plt.plot(words_home.reset_index()[1], label=\"Entire home/apt\")\n",
    "plt.xlim(0,200)\n",
    "plt.ylabel(\"WordFrequency\")\n",
    "plt.xlabel(\"Word position on the list\")\n",
    "plt.legend()\n",
    "plt.show()"
   ]
  },
  {
   "cell_type": "code",
   "execution_count": 56,
   "metadata": {
    "colab": {
     "base_uri": "https://localhost:8080/",
     "height": 1000
    },
    "colab_type": "code",
    "id": "LdvRHnwcLQAj",
    "outputId": "591fca4a-9520-4b70-ddc8-fdf5890e9b34"
   },
   "outputs": [
    {
     "data": {
      "text/html": [
       "<div>\n",
       "<style scoped>\n",
       "    .dataframe tbody tr th:only-of-type {\n",
       "        vertical-align: middle;\n",
       "    }\n",
       "\n",
       "    .dataframe tbody tr th {\n",
       "        vertical-align: top;\n",
       "    }\n",
       "\n",
       "    .dataframe thead th {\n",
       "        text-align: right;\n",
       "    }\n",
       "</style>\n",
       "<table border=\"1\" class=\"dataframe\">\n",
       "  <thead>\n",
       "    <tr style=\"text-align: right;\">\n",
       "      <th></th>\n",
       "      <th>0</th>\n",
       "      <th>1</th>\n",
       "      <th>0</th>\n",
       "      <th>1</th>\n",
       "      <th>0</th>\n",
       "      <th>1</th>\n",
       "    </tr>\n",
       "  </thead>\n",
       "  <tbody>\n",
       "    <tr>\n",
       "      <th>1</th>\n",
       "      <td>apartment</td>\n",
       "      <td>7360</td>\n",
       "      <td>room</td>\n",
       "      <td>1679</td>\n",
       "      <td>bed</td>\n",
       "      <td>26</td>\n",
       "    </tr>\n",
       "    <tr>\n",
       "      <th>2</th>\n",
       "      <td>amsterdam</td>\n",
       "      <td>3536</td>\n",
       "      <td>amsterdam</td>\n",
       "      <td>918</td>\n",
       "      <td>room</td>\n",
       "      <td>19</td>\n",
       "    </tr>\n",
       "    <tr>\n",
       "      <th>3</th>\n",
       "      <td>spacious</td>\n",
       "      <td>2066</td>\n",
       "      <td>private</td>\n",
       "      <td>723</td>\n",
       "      <td>amsterdam</td>\n",
       "      <td>16</td>\n",
       "    </tr>\n",
       "    <tr>\n",
       "      <th>4</th>\n",
       "      <td>city</td>\n",
       "      <td>1686</td>\n",
       "      <td>apartment</td>\n",
       "      <td>584</td>\n",
       "      <td>dorm</td>\n",
       "      <td>15</td>\n",
       "    </tr>\n",
       "    <tr>\n",
       "      <th>5</th>\n",
       "      <td>centre</td>\n",
       "      <td>1537</td>\n",
       "      <td>city</td>\n",
       "      <td>362</td>\n",
       "      <td>mixed</td>\n",
       "      <td>13</td>\n",
       "    </tr>\n",
       "    <tr>\n",
       "      <th>6</th>\n",
       "      <td>near</td>\n",
       "      <td>1432</td>\n",
       "      <td>studio</td>\n",
       "      <td>341</td>\n",
       "      <td>shared</td>\n",
       "      <td>13</td>\n",
       "    </tr>\n",
       "    <tr>\n",
       "      <th>7</th>\n",
       "      <td>house</td>\n",
       "      <td>1403</td>\n",
       "      <td>centre</td>\n",
       "      <td>329</td>\n",
       "      <td>apartment</td>\n",
       "      <td>13</td>\n",
       "    </tr>\n",
       "    <tr>\n",
       "      <th>8</th>\n",
       "      <td>garden</td>\n",
       "      <td>1373</td>\n",
       "      <td>center</td>\n",
       "      <td>325</td>\n",
       "      <td>cozy</td>\n",
       "      <td>10</td>\n",
       "    </tr>\n",
       "    <tr>\n",
       "      <th>9</th>\n",
       "      <td>center</td>\n",
       "      <td>1181</td>\n",
       "      <td>cozy</td>\n",
       "      <td>315</td>\n",
       "      <td>ensuite</td>\n",
       "      <td>9</td>\n",
       "    </tr>\n",
       "    <tr>\n",
       "      <th>10</th>\n",
       "      <td>family</td>\n",
       "      <td>1139</td>\n",
       "      <td>bedroom</td>\n",
       "      <td>276</td>\n",
       "      <td>bedded</td>\n",
       "      <td>8</td>\n",
       "    </tr>\n",
       "    <tr>\n",
       "      <th>11</th>\n",
       "      <td>cosy</td>\n",
       "      <td>1110</td>\n",
       "      <td>near</td>\n",
       "      <td>255</td>\n",
       "      <td>center</td>\n",
       "      <td>7</td>\n",
       "    </tr>\n",
       "    <tr>\n",
       "      <th>12</th>\n",
       "      <td>modern</td>\n",
       "      <td>1084</td>\n",
       "      <td>spacious</td>\n",
       "      <td>246</td>\n",
       "      <td>city</td>\n",
       "      <td>7</td>\n",
       "    </tr>\n",
       "    <tr>\n",
       "      <th>13</th>\n",
       "      <td>apt</td>\n",
       "      <td>1030</td>\n",
       "      <td>cosy</td>\n",
       "      <td>238</td>\n",
       "      <td>bedroom</td>\n",
       "      <td>6</td>\n",
       "    </tr>\n",
       "    <tr>\n",
       "      <th>14</th>\n",
       "      <td>bright</td>\n",
       "      <td>1016</td>\n",
       "      <td>canal</td>\n",
       "      <td>210</td>\n",
       "      <td>studio</td>\n",
       "      <td>4</td>\n",
       "    </tr>\n",
       "    <tr>\n",
       "      <th>15</th>\n",
       "      <td>canal</td>\n",
       "      <td>979</td>\n",
       "      <td>view</td>\n",
       "      <td>206</td>\n",
       "      <td>centre</td>\n",
       "      <td>4</td>\n",
       "    </tr>\n",
       "    <tr>\n",
       "      <th>16</th>\n",
       "      <td>cozy</td>\n",
       "      <td>977</td>\n",
       "      <td>b</td>\n",
       "      <td>205</td>\n",
       "      <td>west</td>\n",
       "      <td>4</td>\n",
       "    </tr>\n",
       "    <tr>\n",
       "      <th>17</th>\n",
       "      <td>lovely</td>\n",
       "      <td>936</td>\n",
       "      <td>central</td>\n",
       "      <td>162</td>\n",
       "      <td>appartment</td>\n",
       "      <td>3</td>\n",
       "    </tr>\n",
       "    <tr>\n",
       "      <th>18</th>\n",
       "      <td>beautiful</td>\n",
       "      <td>924</td>\n",
       "      <td>house</td>\n",
       "      <td>160</td>\n",
       "      <td>modern</td>\n",
       "      <td>3</td>\n",
       "    </tr>\n",
       "    <tr>\n",
       "      <th>19</th>\n",
       "      <td>pijp</td>\n",
       "      <td>915</td>\n",
       "      <td>beautiful</td>\n",
       "      <td>160</td>\n",
       "      <td>bright</td>\n",
       "      <td>3</td>\n",
       "    </tr>\n",
       "    <tr>\n",
       "      <th>20</th>\n",
       "      <td>appartment</td>\n",
       "      <td>814</td>\n",
       "      <td>nice</td>\n",
       "      <td>160</td>\n",
       "      <td>couch</td>\n",
       "      <td>3</td>\n",
       "    </tr>\n",
       "    <tr>\n",
       "      <th>21</th>\n",
       "      <td>light</td>\n",
       "      <td>794</td>\n",
       "      <td>close</td>\n",
       "      <td>155</td>\n",
       "      <td>canal</td>\n",
       "      <td>3</td>\n",
       "    </tr>\n",
       "    <tr>\n",
       "      <th>22</th>\n",
       "      <td>view</td>\n",
       "      <td>789</td>\n",
       "      <td>bright</td>\n",
       "      <td>142</td>\n",
       "      <td>station</td>\n",
       "      <td>3</td>\n",
       "    </tr>\n",
       "    <tr>\n",
       "      <th>23</th>\n",
       "      <td>home</td>\n",
       "      <td>788</td>\n",
       "      <td>garden</td>\n",
       "      <td>140</td>\n",
       "      <td>vondelpark</td>\n",
       "      <td>3</td>\n",
       "    </tr>\n",
       "    <tr>\n",
       "      <th>24</th>\n",
       "      <td>vondelpark</td>\n",
       "      <td>769</td>\n",
       "      <td>houseboat</td>\n",
       "      <td>135</td>\n",
       "      <td>view</td>\n",
       "      <td>3</td>\n",
       "    </tr>\n",
       "    <tr>\n",
       "      <th>25</th>\n",
       "      <td>great</td>\n",
       "      <td>711</td>\n",
       "      <td>lovely</td>\n",
       "      <td>134</td>\n",
       "      <td>beautiful</td>\n",
       "      <td>3</td>\n",
       "    </tr>\n",
       "    <tr>\n",
       "      <th>26</th>\n",
       "      <td>area</td>\n",
       "      <td>699</td>\n",
       "      <td>double</td>\n",
       "      <td>129</td>\n",
       "      <td>house</td>\n",
       "      <td>3</td>\n",
       "    </tr>\n",
       "    <tr>\n",
       "      <th>27</th>\n",
       "      <td>central</td>\n",
       "      <td>678</td>\n",
       "      <td>bed</td>\n",
       "      <td>127</td>\n",
       "      <td>facility</td>\n",
       "      <td>3</td>\n",
       "    </tr>\n",
       "    <tr>\n",
       "      <th>28</th>\n",
       "      <td>terrace</td>\n",
       "      <td>676</td>\n",
       "      <td>location</td>\n",
       "      <td>123</td>\n",
       "      <td>guest</td>\n",
       "      <td>3</td>\n",
       "    </tr>\n",
       "    <tr>\n",
       "      <th>29</th>\n",
       "      <td>sunny</td>\n",
       "      <td>646</td>\n",
       "      <td>pijp</td>\n",
       "      <td>122</td>\n",
       "      <td>charming</td>\n",
       "      <td>2</td>\n",
       "    </tr>\n",
       "    <tr>\n",
       "      <th>30</th>\n",
       "      <td>studio</td>\n",
       "      <td>640</td>\n",
       "      <td>balcony</td>\n",
       "      <td>114</td>\n",
       "      <td>deluxe</td>\n",
       "      <td>2</td>\n",
       "    </tr>\n",
       "    <tr>\n",
       "      <th>31</th>\n",
       "      <td>de</td>\n",
       "      <td>635</td>\n",
       "      <td>quiet</td>\n",
       "      <td>113</td>\n",
       "      <td>home</td>\n",
       "      <td>2</td>\n",
       "    </tr>\n",
       "    <tr>\n",
       "      <th>32</th>\n",
       "      <td>bedroom</td>\n",
       "      <td>625</td>\n",
       "      <td>area</td>\n",
       "      <td>112</td>\n",
       "      <td>spacious</td>\n",
       "      <td>2</td>\n",
       "    </tr>\n",
       "    <tr>\n",
       "      <th>33</th>\n",
       "      <td>jordaan</td>\n",
       "      <td>598</td>\n",
       "      <td>heart</td>\n",
       "      <td>110</td>\n",
       "      <td>double</td>\n",
       "      <td>2</td>\n",
       "    </tr>\n",
       "    <tr>\n",
       "      <th>34</th>\n",
       "      <td>west</td>\n",
       "      <td>581</td>\n",
       "      <td>vondelpark</td>\n",
       "      <td>110</td>\n",
       "      <td>private</td>\n",
       "      <td>2</td>\n",
       "    </tr>\n",
       "    <tr>\n",
       "      <th>35</th>\n",
       "      <td>close</td>\n",
       "      <td>576</td>\n",
       "      <td>de</td>\n",
       "      <td>108</td>\n",
       "      <td>quiet</td>\n",
       "      <td>2</td>\n",
       "    </tr>\n",
       "    <tr>\n",
       "      <th>36</th>\n",
       "      <td>location</td>\n",
       "      <td>513</td>\n",
       "      <td>great</td>\n",
       "      <td>105</td>\n",
       "      <td>comfy</td>\n",
       "      <td>2</td>\n",
       "    </tr>\n",
       "    <tr>\n",
       "      <th>37</th>\n",
       "      <td>stylish</td>\n",
       "      <td>501</td>\n",
       "      <td>bathroom</td>\n",
       "      <td>103</td>\n",
       "      <td>adam</td>\n",
       "      <td>2</td>\n",
       "    </tr>\n",
       "    <tr>\n",
       "      <th>38</th>\n",
       "      <td>m</td>\n",
       "      <td>490</td>\n",
       "      <td>jordaan</td>\n",
       "      <td>101</td>\n",
       "      <td>sleep</td>\n",
       "      <td>2</td>\n",
       "    </tr>\n",
       "    <tr>\n",
       "      <th>39</th>\n",
       "      <td>balcony</td>\n",
       "      <td>487</td>\n",
       "      <td>modern</td>\n",
       "      <td>99</td>\n",
       "      <td>close</td>\n",
       "      <td>2</td>\n",
       "    </tr>\n",
       "    <tr>\n",
       "      <th>40</th>\n",
       "      <td>nice</td>\n",
       "      <td>476</td>\n",
       "      <td>comfortable</td>\n",
       "      <td>94</td>\n",
       "      <td>s</td>\n",
       "      <td>2</td>\n",
       "    </tr>\n",
       "    <tr>\n",
       "      <th>41</th>\n",
       "      <td>east</td>\n",
       "      <td>432</td>\n",
       "      <td>light</td>\n",
       "      <td>91</td>\n",
       "      <td>girl</td>\n",
       "      <td>2</td>\n",
       "    </tr>\n",
       "    <tr>\n",
       "      <th>42</th>\n",
       "      <td>quiet</td>\n",
       "      <td>430</td>\n",
       "      <td>west</td>\n",
       "      <td>86</td>\n",
       "      <td>generator</td>\n",
       "      <td>2</td>\n",
       "    </tr>\n",
       "    <tr>\n",
       "      <th>43</th>\n",
       "      <td>floor</td>\n",
       "      <td>408</td>\n",
       "      <td>min</td>\n",
       "      <td>84</td>\n",
       "      <td>quad</td>\n",
       "      <td>2</td>\n",
       "    </tr>\n",
       "    <tr>\n",
       "      <th>44</th>\n",
       "      <td>private</td>\n",
       "      <td>379</td>\n",
       "      <td>free</td>\n",
       "      <td>83</td>\n",
       "      <td>super</td>\n",
       "      <td>2</td>\n",
       "    </tr>\n",
       "    <tr>\n",
       "      <th>45</th>\n",
       "      <td>trendy</td>\n",
       "      <td>372</td>\n",
       "      <td>suite</td>\n",
       "      <td>77</td>\n",
       "      <td>cosy</td>\n",
       "      <td>2</td>\n",
       "    </tr>\n",
       "    <tr>\n",
       "      <th>46</th>\n",
       "      <td>luxury</td>\n",
       "      <td>372</td>\n",
       "      <td>bike</td>\n",
       "      <td>74</td>\n",
       "      <td>design</td>\n",
       "      <td>2</td>\n",
       "    </tr>\n",
       "    <tr>\n",
       "      <th>47</th>\n",
       "      <td>charming</td>\n",
       "      <td>372</td>\n",
       "      <td>big</td>\n",
       "      <td>73</td>\n",
       "      <td>big</td>\n",
       "      <td>2</td>\n",
       "    </tr>\n",
       "    <tr>\n",
       "      <th>48</th>\n",
       "      <td>roof</td>\n",
       "      <td>368</td>\n",
       "      <td>floor</td>\n",
       "      <td>73</td>\n",
       "      <td>nice</td>\n",
       "      <td>2</td>\n",
       "    </tr>\n",
       "    <tr>\n",
       "      <th>49</th>\n",
       "      <td>next</td>\n",
       "      <td>367</td>\n",
       "      <td>new</td>\n",
       "      <td>71</td>\n",
       "      <td>garden</td>\n",
       "      <td>2</td>\n",
       "    </tr>\n",
       "  </tbody>\n",
       "</table>\n",
       "</div>"
      ],
      "text/plain": [
       "             0     1            0     1           0   1\n",
       "1    apartment  7360         room  1679         bed  26\n",
       "2    amsterdam  3536    amsterdam   918        room  19\n",
       "3     spacious  2066      private   723   amsterdam  16\n",
       "4         city  1686    apartment   584        dorm  15\n",
       "5       centre  1537         city   362       mixed  13\n",
       "6         near  1432       studio   341      shared  13\n",
       "7        house  1403       centre   329   apartment  13\n",
       "8       garden  1373       center   325        cozy  10\n",
       "9       center  1181         cozy   315     ensuite   9\n",
       "10      family  1139      bedroom   276      bedded   8\n",
       "11        cosy  1110         near   255      center   7\n",
       "12      modern  1084     spacious   246        city   7\n",
       "13         apt  1030         cosy   238     bedroom   6\n",
       "14      bright  1016        canal   210      studio   4\n",
       "15       canal   979         view   206      centre   4\n",
       "16        cozy   977            b   205        west   4\n",
       "17      lovely   936      central   162  appartment   3\n",
       "18   beautiful   924        house   160      modern   3\n",
       "19        pijp   915    beautiful   160      bright   3\n",
       "20  appartment   814         nice   160       couch   3\n",
       "21       light   794        close   155       canal   3\n",
       "22        view   789       bright   142     station   3\n",
       "23        home   788       garden   140  vondelpark   3\n",
       "24  vondelpark   769    houseboat   135        view   3\n",
       "25       great   711       lovely   134   beautiful   3\n",
       "26        area   699       double   129       house   3\n",
       "27     central   678          bed   127    facility   3\n",
       "28     terrace   676     location   123       guest   3\n",
       "29       sunny   646         pijp   122    charming   2\n",
       "30      studio   640      balcony   114      deluxe   2\n",
       "31          de   635        quiet   113        home   2\n",
       "32     bedroom   625         area   112    spacious   2\n",
       "33     jordaan   598        heart   110      double   2\n",
       "34        west   581   vondelpark   110     private   2\n",
       "35       close   576           de   108       quiet   2\n",
       "36    location   513        great   105       comfy   2\n",
       "37     stylish   501     bathroom   103        adam   2\n",
       "38           m   490      jordaan   101       sleep   2\n",
       "39     balcony   487       modern    99       close   2\n",
       "40        nice   476  comfortable    94           s   2\n",
       "41        east   432        light    91        girl   2\n",
       "42       quiet   430         west    86   generator   2\n",
       "43       floor   408          min    84        quad   2\n",
       "44     private   379         free    83       super   2\n",
       "45      trendy   372        suite    77        cosy   2\n",
       "46      luxury   372         bike    74      design   2\n",
       "47    charming   372          big    73         big   2\n",
       "48        roof   368        floor    73        nice   2\n",
       "49        next   367          new    71      garden   2"
      ]
     },
     "execution_count": 56,
     "metadata": {},
     "output_type": "execute_result"
    }
   ],
   "source": [
    "home_new = home.reset_index().iloc[1:50,1:3].copy()\n",
    "private_new = private.reset_index().iloc[1:50,1:3].copy()\n",
    "shared_new = shared.reset_index().iloc[1:50,1:3].copy()\n",
    "\n",
    "all_words = pd.concat([home_new, private_new, shared_new], axis=1)\n",
    "all_words"
   ]
  },
  {
   "cell_type": "code",
   "execution_count": 57,
   "metadata": {
    "colab": {
     "base_uri": "https://localhost:8080/",
     "height": 70
    },
    "colab_type": "code",
    "id": "F28ja456ME2C",
    "outputId": "b1d86daf-d022-4ff9-b6a9-7af5335f2c9e"
   },
   "outputs": [
    {
     "name": "stdout",
     "output_type": "stream",
     "text": [
      "Numer of shared room listings: 74\n",
      "Numer of private room listings: 3889\n",
      "Numer of entire home/apt listings: 15808\n"
     ]
    }
   ],
   "source": [
    "#see how many listing there are for each type of room:\n",
    "print(\"Numer of shared room listings: \"+str(len(airbnb_listings[airbnb_listings[\"Shared room\"]==1])))\n",
    "print(\"Numer of private room listings: \"+str(len(airbnb_listings[airbnb_listings[\"Private room\"]==1])))\n",
    "print(\"Numer of entire home/apt listings: \"+str(len(airbnb_listings[airbnb_listings[\"Entire home/apt\"]==1])))"
   ]
  },
  {
   "cell_type": "code",
   "execution_count": 58,
   "metadata": {
    "colab": {},
    "colab_type": "code",
    "id": "y4xdg4ckMRlQ"
   },
   "outputs": [],
   "source": [
    "#Create a list of the most popular words common for all room types:\n",
    "most_popular_words = home_new.iloc[:,0].tolist()+private_new.iloc[:,0].tolist()+shared_new.iloc[:,0].tolist()\n",
    "most_popular = pd.Series(most_popular_words)\n",
    "popular_descriptors=most_popular.unique().tolist()"
   ]
  },
  {
   "cell_type": "code",
   "execution_count": 59,
   "metadata": {
    "colab": {},
    "colab_type": "code",
    "id": "aETZwOVcMZjX"
   },
   "outputs": [],
   "source": [
    "def unique_words2(name, word):\n",
    "    '''This function takes individual name and looks for a matching word in it'''\n",
    "    a = set(stopwords.words('english'))\n",
    "    #tokenize the name\n",
    "    text1 = word_tokenize(str(name).lower())\n",
    "    #create a list free of stopwords\n",
    "    no_stopwords = [x for x in text1 if x not in a]\n",
    "    #lemmatize the words\n",
    "    lemmatized = [lemmatizer.lemmatize(x) for x in no_stopwords]\n",
    "    no_punctuation = [x.translate(str.maketrans('','',string.punctuation)) for x in lemmatized]\n",
    "    no_digits = [x.translate(str.maketrans('','',\"0123456789\")) for x in no_punctuation ]\n",
    "    counter = 0\n",
    "    for item in no_digits:\n",
    "        if str(item) == str(word):\n",
    "            counter += 1\n",
    "        else:\n",
    "            continue\n",
    "\n",
    "    if counter != 0:\n",
    "        return 1\n",
    "    else:\n",
    "        return 0\n",
    "    \n",
    "#Apply the function \n",
    "for item in popular_descriptors:\n",
    "    airbnb_listings[item]= airbnb_listings[\"name\"].apply(lambda x: unique_words2(x,item))"
   ]
  },
  {
   "cell_type": "code",
   "execution_count": 60,
   "metadata": {
    "colab": {},
    "colab_type": "code",
    "id": "hXm_Zfq4iVoY"
   },
   "outputs": [],
   "source": [
    "#convert the last \n",
    "airbnb_listings = pd.concat([airbnb_listings, pd.get_dummies(airbnb_listings['neighbourhood_cleansed'], drop_first=False)], axis=1)\n",
    "airbnb_listings.drop(['neighbourhood_cleansed'],axis=1, inplace=True)"
   ]
  },
  {
   "cell_type": "code",
   "execution_count": 61,
   "metadata": {
    "colab": {
     "base_uri": "https://localhost:8080/",
     "height": 35
    },
    "colab_type": "code",
    "id": "ZbzuftTfkU7Y",
    "outputId": "5412b71a-42d3-4d35-be9b-6ab03b41692e"
   },
   "outputs": [
    {
     "data": {
      "text/plain": [
       "(19771, 163)"
      ]
     },
     "execution_count": 61,
     "metadata": {},
     "output_type": "execute_result"
    }
   ],
   "source": [
    "#drop unnecessary columns\n",
    "airbnb_listings = airbnb_listings.drop(['id','name','host_id','host_name'], axis=1).copy()\n",
    "#copy for later\n",
    "airbnb_listings2 = airbnb_listings.copy()\n",
    "airbnb_listings.shape"
   ]
  },
  {
   "cell_type": "code",
   "execution_count": 62,
   "metadata": {
    "colab": {
     "base_uri": "https://localhost:8080/",
     "height": 35
    },
    "colab_type": "code",
    "id": "UFx256RIkp0l",
    "outputId": "abec1a9e-888e-4557-dea6-cf24b32c5252"
   },
   "outputs": [
    {
     "data": {
      "text/plain": [
       "82"
      ]
     },
     "execution_count": 62,
     "metadata": {},
     "output_type": "execute_result"
    }
   ],
   "source": [
    "len(popular_descriptors)"
   ]
  },
  {
   "cell_type": "code",
   "execution_count": 63,
   "metadata": {
    "colab": {
     "base_uri": "https://localhost:8080/",
     "height": 582
    },
    "colab_type": "code",
    "id": "miwRN1PLkza4",
    "outputId": "e4ac86e8-01f2-4afd-8051-2e333ededbaf"
   },
   "outputs": [
    {
     "data": {
      "image/png": "[encoded data removed]",
      "text/plain": [
       "<Figure size 1152x648 with 2 Axes>"
      ]
     },
     "metadata": {},
     "output_type": "display_data"
    }
   ],
   "source": [
    "def plot_by_word(word):\n",
    "    '''creates a plot of price for listings matching given word'''\n",
    "    y = airbnb_listings[(airbnb_listings[word]==1)].latitude\n",
    "    x = airbnb_listings[(airbnb_listings[word]==1)].longitude\n",
    "    p = airbnb_listings[(airbnb_listings[word]==1)].log_price\n",
    "    plt.figure(figsize=(16,9))\n",
    "    plt.scatter(x,y,c=p,cmap='viridis')\n",
    "    plt.xlabel\n",
    "    plt.colorbar()\n",
    "    plt.xlabel(\"Longitude\")\n",
    "    plt.ylabel(\"Latitude\")\n",
    "    plt.title(\"Word 'Luxury' in the name of the listing\\nColormap indicates price\")\n",
    "    plt.show()\n",
    "    \n",
    "#Sample plot for a given word (from \"all words\" dataframe) \n",
    "plot_by_word(\"balcony\")"
   ]
  },
  {
   "cell_type": "markdown",
   "metadata": {
    "colab_type": "text",
    "id": "tt-PI61Qk4KL"
   },
   "source": [
    "# Price Prediciton through Machine Learning:\n",
    "\n",
    "With data cleaning and feature engineering complete, it is time now to apply machine learning algorithms to develop an approprie price prediction model and derive futher insights.\n",
    "\n"
   ]
  },
  {
   "cell_type": "code",
   "execution_count": 67,
   "metadata": {
    "colab": {},
    "colab_type": "code",
    "id": "2ew8mk0omjot"
   },
   "outputs": [
    {
     "name": "stdout",
     "output_type": "stream",
     "text": [
      "Requirement already satisfied: xgboost in c:\\arcgis\\pro\\bin\\python\\envs\\arcgispro-py3\\lib\\site-packages (1.1.1)\n",
      "Requirement already satisfied: numpy in c:\\arcgis\\pro\\bin\\python\\envs\\arcgispro-py3\\lib\\site-packages (from xgboost) (1.16.2)\n",
      "Requirement already satisfied: scipy in c:\\arcgis\\pro\\bin\\python\\envs\\arcgispro-py3\\lib\\site-packages (from xgboost) (1.0.1)\n"
     ]
    },
    {
     "name": "stderr",
     "output_type": "stream",
     "text": [
      "You are using pip version 19.0.3, however version 20.2b1 is available.\n",
      "You should consider upgrading via the 'python -m pip install --upgrade pip' command.\n"
     ]
    }
   ],
   "source": [
    "#import modules:\n",
    "import pandas as pd\n",
    "import numpy as np\n",
    "import matplotlib.pyplot as plt\n",
    "import seaborn as sns\n",
    "!pip install xgboost\n",
    "import xgboost as xgb\n",
    "\n",
    "from sklearn.tree            import DecisionTreeRegressor\n",
    "from sklearn.neural_network  import MLPRegressor\n",
    "from sklearn.linear_model    import LinearRegression\n",
    "from sklearn.ensemble        import RandomForestRegressor\n",
    "from sklearn.model_selection import cross_val_score, KFold\n",
    "from sklearn.model_selection import train_test_split\n",
    "from sklearn.metrics         import mean_squared_error\n",
    "from sklearn.metrics         import r2_score\n"
   ]
  },
  {
   "cell_type": "code",
   "execution_count": 68,
   "metadata": {
    "colab": {},
    "colab_type": "code",
    "id": "jrVvFn0MtJL2"
   },
   "outputs": [],
   "source": [
    "target = airbnb_listings['log_price'].copy()\n",
    "#drop unnecessary columns\n",
    "airbnb_listings = airbnb_listings.drop(['log_price'], axis=1).copy()\n",
    "#strip the target column from input columns and put it in front\n",
    "airbnb_listings = pd.concat([target, airbnb_listings], axis=1).copy()\n",
    "#select input variable columns\n",
    "nums = airbnb_listings.iloc[:,1:]"
   ]
  },
  {
   "cell_type": "markdown",
   "metadata": {
    "colab_type": "text",
    "id": "6ixIm5eAtmHm"
   },
   "source": [
    "Review the final dataframe for analysis\n"
   ]
  },
  {
   "cell_type": "code",
   "execution_count": 69,
   "metadata": {
    "colab": {
     "base_uri": "https://localhost:8080/",
     "height": 294
    },
    "colab_type": "code",
    "id": "VzANBfaxtsOx",
    "outputId": "855c0ac4-5456-4794-bc4c-e1baeaf855f1"
   },
   "outputs": [
    {
     "data": {
      "text/html": [
       "<div>\n",
       "<style scoped>\n",
       "    .dataframe tbody tr th:only-of-type {\n",
       "        vertical-align: middle;\n",
       "    }\n",
       "\n",
       "    .dataframe tbody tr th {\n",
       "        vertical-align: top;\n",
       "    }\n",
       "\n",
       "    .dataframe thead th {\n",
       "        text-align: right;\n",
       "    }\n",
       "</style>\n",
       "<table border=\"1\" class=\"dataframe\">\n",
       "  <thead>\n",
       "    <tr style=\"text-align: right;\">\n",
       "      <th></th>\n",
       "      <th>log_price</th>\n",
       "      <th>latitude</th>\n",
       "      <th>longitude</th>\n",
       "      <th>log_(calculated_host_listings_count +1)</th>\n",
       "      <th>log_(minimum_nights +1)</th>\n",
       "      <th>log_(availability_365 +1)</th>\n",
       "      <th>log_(number_of_reviews +1)</th>\n",
       "      <th>log_(reviews_per_month +1)</th>\n",
       "      <th>Amsterdam Centrum</th>\n",
       "      <th>Banne Buiksloot</th>\n",
       "      <th>...</th>\n",
       "      <th>Noord-Oost</th>\n",
       "      <th>Noord-West</th>\n",
       "      <th>Oostelijk Havengebied - Indische Buurt</th>\n",
       "      <th>Osdorp</th>\n",
       "      <th>Oud-Noord</th>\n",
       "      <th>Oud-Oost</th>\n",
       "      <th>Slotervaart</th>\n",
       "      <th>Watergraafsmeer</th>\n",
       "      <th>Westerpark</th>\n",
       "      <th>Zuid</th>\n",
       "    </tr>\n",
       "  </thead>\n",
       "  <tbody>\n",
       "    <tr>\n",
       "      <th>0</th>\n",
       "      <td>4.077537</td>\n",
       "      <td>52.36575</td>\n",
       "      <td>4.94142</td>\n",
       "      <td>0.693147</td>\n",
       "      <td>1.386294</td>\n",
       "      <td>4.499810</td>\n",
       "      <td>5.590987</td>\n",
       "      <td>1.137833</td>\n",
       "      <td>0</td>\n",
       "      <td>0</td>\n",
       "      <td>...</td>\n",
       "      <td>0</td>\n",
       "      <td>0</td>\n",
       "      <td>1</td>\n",
       "      <td>0</td>\n",
       "      <td>0</td>\n",
       "      <td>0</td>\n",
       "      <td>0</td>\n",
       "      <td>0</td>\n",
       "      <td>0</td>\n",
       "      <td>0</td>\n",
       "    </tr>\n",
       "    <tr>\n",
       "      <th>1</th>\n",
       "      <td>4.382027</td>\n",
       "      <td>52.36509</td>\n",
       "      <td>4.89354</td>\n",
       "      <td>1.098612</td>\n",
       "      <td>0.693147</td>\n",
       "      <td>4.828314</td>\n",
       "      <td>5.648974</td>\n",
       "      <td>1.241269</td>\n",
       "      <td>0</td>\n",
       "      <td>0</td>\n",
       "      <td>...</td>\n",
       "      <td>0</td>\n",
       "      <td>0</td>\n",
       "      <td>0</td>\n",
       "      <td>0</td>\n",
       "      <td>0</td>\n",
       "      <td>0</td>\n",
       "      <td>0</td>\n",
       "      <td>0</td>\n",
       "      <td>0</td>\n",
       "      <td>0</td>\n",
       "    </tr>\n",
       "    <tr>\n",
       "      <th>2</th>\n",
       "      <td>4.828314</td>\n",
       "      <td>52.37297</td>\n",
       "      <td>4.88339</td>\n",
       "      <td>1.098612</td>\n",
       "      <td>2.708050</td>\n",
       "      <td>4.330733</td>\n",
       "      <td>1.386294</td>\n",
       "      <td>0.148420</td>\n",
       "      <td>0</td>\n",
       "      <td>0</td>\n",
       "      <td>...</td>\n",
       "      <td>0</td>\n",
       "      <td>0</td>\n",
       "      <td>0</td>\n",
       "      <td>0</td>\n",
       "      <td>0</td>\n",
       "      <td>0</td>\n",
       "      <td>0</td>\n",
       "      <td>0</td>\n",
       "      <td>0</td>\n",
       "      <td>0</td>\n",
       "    </tr>\n",
       "    <tr>\n",
       "      <th>3</th>\n",
       "      <td>5.010635</td>\n",
       "      <td>52.38673</td>\n",
       "      <td>4.89208</td>\n",
       "      <td>0.693147</td>\n",
       "      <td>1.098612</td>\n",
       "      <td>4.204693</td>\n",
       "      <td>5.278115</td>\n",
       "      <td>1.134623</td>\n",
       "      <td>0</td>\n",
       "      <td>0</td>\n",
       "      <td>...</td>\n",
       "      <td>0</td>\n",
       "      <td>0</td>\n",
       "      <td>0</td>\n",
       "      <td>0</td>\n",
       "      <td>0</td>\n",
       "      <td>0</td>\n",
       "      <td>0</td>\n",
       "      <td>0</td>\n",
       "      <td>0</td>\n",
       "      <td>0</td>\n",
       "    </tr>\n",
       "    <tr>\n",
       "      <th>4</th>\n",
       "      <td>4.317488</td>\n",
       "      <td>52.36719</td>\n",
       "      <td>4.89092</td>\n",
       "      <td>1.386294</td>\n",
       "      <td>1.098612</td>\n",
       "      <td>4.934474</td>\n",
       "      <td>5.648974</td>\n",
       "      <td>1.278152</td>\n",
       "      <td>1</td>\n",
       "      <td>0</td>\n",
       "      <td>...</td>\n",
       "      <td>0</td>\n",
       "      <td>0</td>\n",
       "      <td>0</td>\n",
       "      <td>0</td>\n",
       "      <td>0</td>\n",
       "      <td>0</td>\n",
       "      <td>0</td>\n",
       "      <td>0</td>\n",
       "      <td>0</td>\n",
       "      <td>0</td>\n",
       "    </tr>\n",
       "  </tbody>\n",
       "</table>\n",
       "<p>5 rows × 163 columns</p>\n",
       "</div>"
      ],
      "text/plain": [
       "   log_price  latitude  longitude  log_(calculated_host_listings_count +1)  \\\n",
       "0   4.077537  52.36575    4.94142                                 0.693147   \n",
       "1   4.382027  52.36509    4.89354                                 1.098612   \n",
       "2   4.828314  52.37297    4.88339                                 1.098612   \n",
       "3   5.010635  52.38673    4.89208                                 0.693147   \n",
       "4   4.317488  52.36719    4.89092                                 1.386294   \n",
       "\n",
       "   log_(minimum_nights +1)  log_(availability_365 +1)  \\\n",
       "0                 1.386294                   4.499810   \n",
       "1                 0.693147                   4.828314   \n",
       "2                 2.708050                   4.330733   \n",
       "3                 1.098612                   4.204693   \n",
       "4                 1.098612                   4.934474   \n",
       "\n",
       "   log_(number_of_reviews +1)  log_(reviews_per_month +1)  Amsterdam Centrum  \\\n",
       "0                    5.590987                    1.137833                  0   \n",
       "1                    5.648974                    1.241269                  0   \n",
       "2                    1.386294                    0.148420                  0   \n",
       "3                    5.278115                    1.134623                  0   \n",
       "4                    5.648974                    1.278152                  1   \n",
       "\n",
       "   Banne Buiksloot  ...   Noord-Oost  Noord-West  \\\n",
       "0                0  ...            0           0   \n",
       "1                0  ...            0           0   \n",
       "2                0  ...            0           0   \n",
       "3                0  ...            0           0   \n",
       "4                0  ...            0           0   \n",
       "\n",
       "   Oostelijk Havengebied - Indische Buurt  Osdorp  Oud-Noord  Oud-Oost  \\\n",
       "0                                       1       0          0         0   \n",
       "1                                       0       0          0         0   \n",
       "2                                       0       0          0         0   \n",
       "3                                       0       0          0         0   \n",
       "4                                       0       0          0         0   \n",
       "\n",
       "   Slotervaart  Watergraafsmeer  Westerpark  Zuid  \n",
       "0            0                0           0     0  \n",
       "1            0                0           0     0  \n",
       "2            0                0           0     0  \n",
       "3            0                0           0     0  \n",
       "4            0                0           0     0  \n",
       "\n",
       "[5 rows x 163 columns]"
      ]
     },
     "execution_count": 69,
     "metadata": {},
     "output_type": "execute_result"
    }
   ],
   "source": [
    "airbnb_listings.head()"
   ]
  },
  {
   "cell_type": "code",
   "execution_count": 72,
   "metadata": {
    "colab": {
     "base_uri": "https://localhost:8080/",
     "height": 1000
    },
    "colab_type": "code",
    "id": "3C7n1JiFt3Gb",
    "outputId": "eeda28ff-e050-4170-f644-cbfb970805e5"
   },
   "outputs": [
    {
     "data": {
      "text/plain": [
       "['log_price',\n",
       " 'latitude',\n",
       " 'longitude',\n",
       " 'log_(calculated_host_listings_count +1)',\n",
       " 'log_(minimum_nights +1)',\n",
       " 'log_(availability_365 +1)',\n",
       " 'log_(number_of_reviews +1)',\n",
       " 'log_(reviews_per_month +1)',\n",
       " 'Amsterdam Centrum',\n",
       " 'Banne Buiksloot',\n",
       " 'Bos en Lommer',\n",
       " 'Buiksloterham',\n",
       " 'Buikslotermeer',\n",
       " 'Buitenveldert-Oost',\n",
       " 'Buitenveldert-West',\n",
       " 'De Pijp',\n",
       " 'De Wallen',\n",
       " 'Frederik Hendrikbuurt',\n",
       " 'Grachtengordel',\n",
       " 'Hoofddorppleinbuurt',\n",
       " 'IJplein en Vogelbuurt',\n",
       " 'Indische Buurt',\n",
       " 'Jordaan',\n",
       " 'Kadoelen',\n",
       " 'Landelijk Noord',\n",
       " 'Museumkwartier',\n",
       " 'Nieuwendam-Noord',\n",
       " 'Nieuwendammerdijk en Buiksloterdijk',\n",
       " 'Nieuwendammerham',\n",
       " 'Nieuwmarkt en Lastage',\n",
       " 'Oost',\n",
       " 'Oostelijke Eilanden en Kadijken',\n",
       " 'Oosterparkbuurt',\n",
       " 'Oostzanerwerf',\n",
       " 'Osdorp',\n",
       " 'Oud-West',\n",
       " 'Oud-Zuid',\n",
       " 'Overtoomse Veld',\n",
       " 'Rivierenbuurt',\n",
       " 'Slotermeer-Noordoost',\n",
       " 'Slotermeer-Zuidwest',\n",
       " 'Slotervaart',\n",
       " 'Spaarndammer en Zeeheldenbuurt',\n",
       " 'Stadionbuurt',\n",
       " 'Tuindorp Buiksloot',\n",
       " 'Tuindorp Nieuwendam',\n",
       " 'Tuindorp Oostzaan',\n",
       " 'Volewijck',\n",
       " 'Watergraafsmeer',\n",
       " 'Weesperbuurt en Plantage',\n",
       " 'Westelijke Eilanden',\n",
       " 'Zeeburg',\n",
       " 'Entire home/apt',\n",
       " 'Private room',\n",
       " 'Shared room',\n",
       " 'Last_review_last year',\n",
       " 'Last_review_last_5_years',\n",
       " 'Last_review_last_half_year',\n",
       " 'Last_review_last_month',\n",
       " 'Last_review_last_three_day',\n",
       " 'Last_review_last_week',\n",
       " 'Last_review_never',\n",
       " 'apartment',\n",
       " 'amsterdam',\n",
       " 'spacious',\n",
       " 'city',\n",
       " 'centre',\n",
       " 'near',\n",
       " 'house',\n",
       " 'garden',\n",
       " 'center',\n",
       " 'family',\n",
       " 'cosy',\n",
       " 'modern',\n",
       " 'apt',\n",
       " 'bright',\n",
       " 'canal',\n",
       " 'cozy',\n",
       " 'lovely',\n",
       " 'beautiful',\n",
       " 'pijp',\n",
       " 'appartment',\n",
       " 'light',\n",
       " 'view',\n",
       " 'home',\n",
       " 'vondelpark',\n",
       " 'great',\n",
       " 'area',\n",
       " 'central',\n",
       " 'terrace',\n",
       " 'sunny',\n",
       " 'studio',\n",
       " 'de',\n",
       " 'bedroom',\n",
       " 'jordaan',\n",
       " 'west',\n",
       " 'close',\n",
       " 'location',\n",
       " 'stylish',\n",
       " 'm',\n",
       " 'balcony',\n",
       " 'nice',\n",
       " 'east',\n",
       " 'quiet',\n",
       " 'floor',\n",
       " 'private',\n",
       " 'trendy',\n",
       " 'luxury',\n",
       " 'charming',\n",
       " 'roof',\n",
       " 'next',\n",
       " 'room',\n",
       " 'b',\n",
       " 'houseboat',\n",
       " 'double',\n",
       " 'bed',\n",
       " 'heart',\n",
       " 'bathroom',\n",
       " 'comfortable',\n",
       " 'min',\n",
       " 'free',\n",
       " 'suite',\n",
       " 'bike',\n",
       " 'big',\n",
       " 'new',\n",
       " 'dorm',\n",
       " 'mixed',\n",
       " 'shared',\n",
       " 'ensuite',\n",
       " 'bedded',\n",
       " 'couch',\n",
       " 'station',\n",
       " 'facility',\n",
       " 'guest',\n",
       " 'deluxe',\n",
       " 'comfy',\n",
       " 'adam',\n",
       " 'sleep',\n",
       " 's',\n",
       " 'girl',\n",
       " 'generator',\n",
       " 'quad',\n",
       " 'super',\n",
       " 'design',\n",
       " 'Bos en Lommer',\n",
       " 'Buitenveldert - Zuidas',\n",
       " 'Centrum-Oost',\n",
       " 'Centrum-West',\n",
       " 'De Aker - Nieuw Sloten',\n",
       " 'De Baarsjes - Oud-West',\n",
       " 'De Pijp - Rivierenbuurt',\n",
       " 'Geuzenveld - Slotermeer',\n",
       " 'IJburg - Zeeburgereiland',\n",
       " 'Noord-Oost',\n",
       " 'Noord-West',\n",
       " 'Oostelijk Havengebied - Indische Buurt',\n",
       " 'Osdorp',\n",
       " 'Oud-Noord',\n",
       " 'Oud-Oost',\n",
       " 'Slotervaart',\n",
       " 'Watergraafsmeer',\n",
       " 'Westerpark',\n",
       " 'Zuid']"
      ]
     },
     "execution_count": 72,
     "metadata": {},
     "output_type": "execute_result"
    }
   ],
   "source": [
    "airbnb_listings.columns.tolist()"
   ]
  },
  {
   "cell_type": "markdown",
   "metadata": {
    "colab_type": "text",
    "id": "ouKAwPfku2jy"
   },
   "source": [
    "Let us check if there are any duplicate columns in our dataframe and remove them."
   ]
  },
  {
   "cell_type": "code",
   "execution_count": 73,
   "metadata": {
    "colab": {
     "base_uri": "https://localhost:8080/",
     "height": 35
    },
    "colab_type": "code",
    "id": "RPGcplnTuqkB",
    "outputId": "f46c18ac-9e3d-4bda-a929-8a09cb3ca407"
   },
   "outputs": [
    {
     "data": {
      "text/plain": [
       "(19771, 163)"
      ]
     },
     "execution_count": 73,
     "metadata": {},
     "output_type": "execute_result"
    }
   ],
   "source": [
    "airbnb_listings.shape"
   ]
  },
  {
   "cell_type": "code",
   "execution_count": 74,
   "metadata": {
    "colab": {},
    "colab_type": "code",
    "id": "i2iQ7fTnushh"
   },
   "outputs": [],
   "source": [
    "airbnb_listings = airbnb_listings.loc[:,~airbnb_listings.columns.duplicated()]"
   ]
  },
  {
   "cell_type": "code",
   "execution_count": 75,
   "metadata": {
    "colab": {
     "base_uri": "https://localhost:8080/",
     "height": 35
    },
    "colab_type": "code",
    "id": "EYLmNj10uyuX",
    "outputId": "68812a46-a320-485b-b663-21949870a6b2"
   },
   "outputs": [
    {
     "data": {
      "text/plain": [
       "(19771, 159)"
      ]
     },
     "execution_count": 75,
     "metadata": {},
     "output_type": "execute_result"
    }
   ],
   "source": [
    "airbnb_listings.shape"
   ]
  },
  {
   "cell_type": "markdown",
   "metadata": {
    "colab_type": "text",
    "id": "CZ5F59KfvBNr"
   },
   "source": [
    "There were 4 duplicate columns which got removed by doing the above operation of removing duplicate columns."
   ]
  },
  {
   "cell_type": "markdown",
   "metadata": {
    "colab_type": "text",
    "id": "g1DbTiLsvJUD"
   },
   "source": [
    "With one hot encoding, feature engineering and natural language processing the shape of the dataframe grew substantially.\n",
    "\n",
    "- Several numeric columns have been log transformed\n",
    "- Individual neighborhoods have been one hot encoded along with categorized times since the last review\n",
    "- Lastly columns were created to document use of popular words in the listing name\n",
    "\n",
    "Next, let's use the entire dataset and feed it into some of the most common regression models to see what sort of root mean square error we get:"
   ]
  },
  {
   "cell_type": "code",
   "execution_count": 76,
   "metadata": {
    "colab": {},
    "colab_type": "code",
    "id": "VzAuGKMevcZg"
   },
   "outputs": [],
   "source": [
    "y= target\n",
    "x = nums\n",
    "X_train, X_test, y_train, y_test = train_test_split(x,y, test_size=0.20, random_state=1)\n"
   ]
  },
  {
   "cell_type": "markdown",
   "metadata": {
    "colab_type": "text",
    "id": "jzcARVK39Ame"
   },
   "source": [
    "Removing any duplicate columns from \"x\": our input data"
   ]
  },
  {
   "cell_type": "code",
   "execution_count": 77,
   "metadata": {
    "colab": {
     "base_uri": "https://localhost:8080/",
     "height": 35
    },
    "colab_type": "code",
    "id": "EmpHjgaG84Gy",
    "outputId": "361b91f6-b22c-4248-f521-216ea8248481"
   },
   "outputs": [
    {
     "data": {
      "text/plain": [
       "(19771, 162)"
      ]
     },
     "execution_count": 77,
     "metadata": {},
     "output_type": "execute_result"
    }
   ],
   "source": [
    "x.shape"
   ]
  },
  {
   "cell_type": "code",
   "execution_count": 78,
   "metadata": {
    "colab": {},
    "colab_type": "code",
    "id": "cGhu4uQK8wD0"
   },
   "outputs": [],
   "source": [
    "x = x.loc[:,~x.columns.duplicated()]"
   ]
  },
  {
   "cell_type": "code",
   "execution_count": 79,
   "metadata": {
    "colab": {
     "base_uri": "https://localhost:8080/",
     "height": 35
    },
    "colab_type": "code",
    "id": "E8oLqNmf88Dq",
    "outputId": "b9c49885-00a0-4faa-9829-10fcf045e652"
   },
   "outputs": [
    {
     "data": {
      "text/plain": [
       "(19771, 158)"
      ]
     },
     "execution_count": 79,
     "metadata": {},
     "output_type": "execute_result"
    }
   ],
   "source": [
    "x.shape"
   ]
  },
  {
   "cell_type": "markdown",
   "metadata": {
    "colab_type": "text",
    "id": "Hmj_ZMOVzw5t"
   },
   "source": [
    "Decision Tree Model"
   ]
  },
  {
   "cell_type": "code",
   "execution_count": 80,
   "metadata": {
    "colab": {
     "base_uri": "https://localhost:8080/",
     "height": 35
    },
    "colab_type": "code",
    "id": "9tDAPs1sz0lE",
    "outputId": "529ebae7-7869-41ba-9855-ce589f032ab7"
   },
   "outputs": [
    {
     "name": "stdout",
     "output_type": "stream",
     "text": [
      "Root mean square error: 0.54\n"
     ]
    }
   ],
   "source": [
    "rmse_dt=[]\n",
    "dt = DecisionTreeRegressor()\n",
    "\n",
    "# K-fold Cross Validation\n",
    "kf = KFold(5, shuffle = True, random_state=1)\n",
    "mse = cross_val_score(dt ,x,y, scoring = \"neg_mean_squared_error\", cv=kf) \n",
    "rmse = np.sqrt(np.absolute(mse))\n",
    "avg_rmse = np.sum(rmse)/len(rmse)\n",
    "rmse_dt.append(avg_rmse)\n",
    "print(\"Root mean square error: \" +str(round(rmse_dt[0],2)))"
   ]
  },
  {
   "cell_type": "markdown",
   "metadata": {
    "colab_type": "text",
    "id": "BbPaDaF58QrC"
   },
   "source": [
    "XGBoost Algorithm\n"
   ]
  },
  {
   "cell_type": "code",
   "execution_count": 81,
   "metadata": {
    "colab": {
     "base_uri": "https://localhost:8080/",
     "height": 35
    },
    "colab_type": "code",
    "id": "MDP-Gpq3z9yc",
    "outputId": "b00c7258-b948-46e1-8238-f852f28f6958"
   },
   "outputs": [
    {
     "name": "stdout",
     "output_type": "stream",
     "text": [
      "Root mean square error: 0.4\n"
     ]
    }
   ],
   "source": [
    "rmse_xg = []\n",
    "data_dmatrix = xgb.DMatrix(data=x,label=y)\n",
    "params = {\n",
    "              'colsample_bytree': 0.9,\n",
    "              'learning_rate': 0.1,\n",
    "              'max_depth': 1, \n",
    "              'alpha': 10}\n",
    "cv_results = xgb.cv(dtrain=data_dmatrix, params=params, nfold=5, num_boost_round=300,\n",
    "                        early_stopping_rounds=10, metrics=\"rmse\", as_pandas=True, \n",
    "                        seed=123)\n",
    "    \n",
    "rmse_xg.append(cv_results[\"test-rmse-mean\"].tolist()[-1])\n",
    "print(\"Root mean square error: \" +str(round(rmse_xg[0],2)))"
   ]
  },
  {
   "cell_type": "markdown",
   "metadata": {
    "colab_type": "text",
    "id": "MyeaIQCk9dEa"
   },
   "source": [
    "Random Forest Regression"
   ]
  },
  {
   "cell_type": "code",
   "execution_count": 82,
   "metadata": {
    "colab": {
     "base_uri": "https://localhost:8080/",
     "height": 52
    },
    "colab_type": "code",
    "id": "TjYDPhfz9gbn",
    "outputId": "fa947643-f4ca-451e-99cc-4bf3317c89fe"
   },
   "outputs": [
    {
     "name": "stdout",
     "output_type": "stream",
     "text": [
      "Root mean square error: \n",
      "[0.38894845821212864]\n"
     ]
    }
   ],
   "source": [
    "rmse_rf=[]\n",
    "rf=RandomForestRegressor(n_estimators = 100, random_state=1,  min_samples_leaf=2)\n",
    "kf = KFold(5, shuffle = True, random_state=1)\n",
    "mse = cross_val_score(rf ,x,y, scoring = \"neg_mean_squared_error\", cv=kf) \n",
    "rmse = np.sqrt(np.absolute(mse))\n",
    "avg_rmse = np.sum(rmse)/len(rmse)\n",
    "rmse_rf.append(avg_rmse)\n",
    "print(\"Root mean square error: \")\n",
    "print(rmse_rf)"
   ]
  },
  {
   "cell_type": "markdown",
   "metadata": {
    "colab_type": "text",
    "id": "_K5bvuF2_Mq1"
   },
   "source": [
    "Neural Network"
   ]
  },
  {
   "cell_type": "code",
   "execution_count": 83,
   "metadata": {
    "colab": {
     "base_uri": "https://localhost:8080/",
     "height": 52
    },
    "colab_type": "code",
    "id": "3K1j6hH4_MFG",
    "outputId": "81f24446-8665-487b-c361-dc19374dafa0"
   },
   "outputs": [
    {
     "name": "stdout",
     "output_type": "stream",
     "text": [
      "Root mean square error: \n",
      "[0.4139289719148251]\n"
     ]
    }
   ],
   "source": [
    "rmse_nndf=[]\n",
    "mlp = MLPRegressor(activation='relu', max_iter=1000)\n",
    "kf = KFold(5, shuffle = True, random_state=1)\n",
    "mse = cross_val_score(mlp ,x,y, scoring = \"neg_mean_squared_error\", cv=kf) \n",
    "rmse = np.sqrt(np.absolute(mse))\n",
    "avg_rmse = np.sum(rmse)/len(rmse)\n",
    "rmse_nndf.append(avg_rmse)\n",
    "print(\"Root mean square error: \")\n",
    "print(rmse_nndf)"
   ]
  },
  {
   "cell_type": "code",
   "execution_count": 84,
   "metadata": {
    "colab": {
     "base_uri": "https://localhost:8080/",
     "height": 76
    },
    "colab_type": "code",
    "id": "A52Pd7tj_beS",
    "outputId": "9e8090f2-dd86-49f5-ca90-6d4ae243cb3e"
   },
   "outputs": [
    {
     "data": {
      "text/html": [
       "<div>\n",
       "<style scoped>\n",
       "    .dataframe tbody tr th:only-of-type {\n",
       "        vertical-align: middle;\n",
       "    }\n",
       "\n",
       "    .dataframe tbody tr th {\n",
       "        vertical-align: top;\n",
       "    }\n",
       "\n",
       "    .dataframe thead th {\n",
       "        text-align: right;\n",
       "    }\n",
       "</style>\n",
       "<table border=\"1\" class=\"dataframe\">\n",
       "  <thead>\n",
       "    <tr style=\"text-align: right;\">\n",
       "      <th></th>\n",
       "      <th>Decision Tree</th>\n",
       "      <th>Random Forest</th>\n",
       "      <th>XG Boost</th>\n",
       "      <th>Neural Network</th>\n",
       "    </tr>\n",
       "  </thead>\n",
       "  <tbody>\n",
       "    <tr>\n",
       "      <th>0</th>\n",
       "      <td>0.544026</td>\n",
       "      <td>0.388948</td>\n",
       "      <td>0.404848</td>\n",
       "      <td>0.413929</td>\n",
       "    </tr>\n",
       "  </tbody>\n",
       "</table>\n",
       "</div>"
      ],
      "text/plain": [
       "   Decision Tree  Random Forest  XG Boost  Neural Network\n",
       "0       0.544026       0.388948  0.404848        0.413929"
      ]
     },
     "execution_count": 84,
     "metadata": {},
     "output_type": "execute_result"
    }
   ],
   "source": [
    "dt = pd.Series(rmse_dt, name =\"Decision Tree\")\n",
    "rand = pd.Series(rmse_rf, name =\"Random Forest\")\n",
    "xgb = pd.Series(rmse_xg, name =\"XG Boost\")\n",
    "nn = pd.Series(rmse_nndf, name=\"Neural Network\")\n",
    "pd.concat([dt,rand,xgb,nn],axis=1)"
   ]
  },
  {
   "cell_type": "markdown",
   "metadata": {
    "colab_type": "text",
    "id": "n2hg2ztw_9mR"
   },
   "source": [
    "Random Forest model yields the lowest RMSE (0.38). Thus, let us try to make predictions and check our accuracy for this model."
   ]
  },
  {
   "cell_type": "code",
   "execution_count": 85,
   "metadata": {
    "colab": {},
    "colab_type": "code",
    "id": "v4ZRWFr1raR_"
   },
   "outputs": [],
   "source": [
    "# Import the model we are using\n",
    "from sklearn.ensemble import RandomForestRegressor\n",
    "# Instantiate model with 1000 decision trees\n",
    "rf = RandomForestRegressor(n_estimators = 1000, random_state = 42)\n",
    "# Train the model on training data\n",
    "rf.fit(X_train, y_train);"
   ]
  },
  {
   "cell_type": "code",
   "execution_count": 86,
   "metadata": {
    "colab": {
     "base_uri": "https://localhost:8080/",
     "height": 35
    },
    "colab_type": "code",
    "id": "lAzlcSJ2sLmb",
    "outputId": "e570c720-6da7-4587-bd41-49d9a5b91bd7"
   },
   "outputs": [
    {
     "name": "stdout",
     "output_type": "stream",
     "text": [
      "Mean Absolute Error: 0.29 degrees.\n"
     ]
    }
   ],
   "source": [
    "# Use the forest's predict method on the test data\n",
    "predictions = rf.predict(X_test)\n",
    "# Calculate the absolute errors\n",
    "errors = abs(predictions - y_test)\n",
    "# Print out the mean absolute error (mae)\n",
    "print('Mean Absolute Error:', round(np.mean(errors), 2), 'degrees.')\n",
    "# Mean Absolute Error: 3.83 degrees."
   ]
  },
  {
   "cell_type": "code",
   "execution_count": 87,
   "metadata": {
    "colab": {
     "base_uri": "https://localhost:8080/",
     "height": 35
    },
    "colab_type": "code",
    "id": "x00b640Nuf_3",
    "outputId": "247c780c-d261-4e79-c8d0-9572e0dd9cab"
   },
   "outputs": [
    {
     "name": "stdout",
     "output_type": "stream",
     "text": [
      "Accuracy: 94.03 %.\n"
     ]
    }
   ],
   "source": [
    "# Calculate mean absolute percentage error (MAPE)\n",
    "mape = 100 * (errors / y_test)\n",
    "# Calculate and display accuracy\n",
    "accuracy = 100 - np.mean(mape)\n",
    "print('Accuracy:', round(accuracy, 2), '%.')"
   ]
  },
  {
   "cell_type": "markdown",
   "metadata": {
    "colab_type": "text",
    "id": "RQ3mQpWculvP"
   },
   "source": [
    "We are getting a decent accuracy of 94.03% by using 1000 estimators."
   ]
  },
  {
   "cell_type": "markdown",
   "metadata": {
    "colab_type": "text",
    "id": "CpfurV890SeM"
   },
   "source": [
    "The model can be further optimized by using bagging and boosting operations"
   ]
  }
 ],
 "metadata": {
  "colab": {
   "collapsed_sections": [],
   "name": "Airbnb Listings",
   "provenance": []
  },
  "kernelspec": {
   "display_name": "Python 3",
   "language": "python",
   "name": "python3"
  },
  "language_info": {
   "codemirror_mode": {
    "name": "ipython",
    "version": 3
   },
   "file_extension": ".py",
   "mimetype": "text/x-python",
   "name": "python",
   "nbconvert_exporter": "python",
   "pygments_lexer": "ipython3",
   "version": "3.6.5"
  }
 },
 "nbformat": 4,
 "nbformat_minor": 1
}
